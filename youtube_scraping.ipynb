{
 "cells": [
  {
   "cell_type": "code",
   "execution_count": 1,
   "metadata": {},
   "outputs": [],
   "source": [
    "from selenium import webdriver\n",
    "import pandas as pd\n",
    "from selenium.webdriver.common.by import By\n",
    "from selenium.webdriver.support.ui import WebDriverWait\n",
    "from selenium.webdriver.support import expected_conditions as EC"
   ]
  },
  {
   "cell_type": "markdown",
   "metadata": {},
   "source": [
    "### Below variable is for saving the art and dance and art videos only."
   ]
  },
  {
   "cell_type": "code",
   "execution_count": 8,
   "metadata": {},
   "outputs": [],
   "source": [
    "aratndance_url = \"https://www.youtube.com/results?search_query=art+and+dance+of+India\""
   ]
  },
  {
   "cell_type": "code",
   "execution_count": 9,
   "metadata": {},
   "outputs": [],
   "source": [
    "driver = webdriver.Chrome(\"C:\\\\Users\\\\user\\\\Downloads\\\\chromedriver_win32\\\\chromedriver.exe\")\n",
    "driver.get(aratndance_url)"
   ]
  },
  {
   "cell_type": "code",
   "execution_count": 10,
   "metadata": {},
   "outputs": [
    {
     "name": "stdout",
     "output_type": "stream",
     "text": [
      "23\n"
     ]
    }
   ],
   "source": [
    "user_data1 = driver.find_elements_by_xpath('//*[@id=\"video-title\"]')\n",
    "links1 = []\n",
    "for i in user_data1:\n",
    "    links1.append(i.get_attribute('href'))\n",
    "print(len(links1))"
   ]
  },
  {
   "cell_type": "markdown",
   "metadata": {},
   "source": [
    "### Below variable df_artndance is for saving the details in a dataframe"
   ]
  },
  {
   "cell_type": "code",
   "execution_count": 5,
   "metadata": {},
   "outputs": [],
   "source": [
    "df_artndance = pd.DataFrame(columns = ['Video_id', 'title', 'description', 'catagory'])"
   ]
  },
  {
   "cell_type": "code",
   "execution_count": 11,
   "metadata": {},
   "outputs": [],
   "source": [
    "wait = WebDriverWait(driver, 23)\n",
    "v_category = \"Art & Dance\"\n",
    "for x in links1:\n",
    "    #Extract dates from for each user on a page\n",
    "    driver.get(x)\n",
    "    v_id = x.strip('https://www.youtube.com/watch?v=')\n",
    "    v_title = wait.until(EC.presence_of_element_located((By.CSS_SELECTOR,\"h1.title yt-formatted-string\"))).text\n",
    "    v_description = wait.until(EC.presence_of_element_located((By.CSS_SELECTOR,\"div#description yt-formatted-string\"))).text\n",
    "    df_artndance.loc[len(df_artndance)] = [v_id, v_title, v_description, v_category]"
   ]
  },
  {
   "cell_type": "code",
   "execution_count": 12,
   "metadata": {},
   "outputs": [
    {
     "data": {
      "text/html": [
       "<div>\n",
       "<style>\n",
       "    .dataframe thead tr:only-child th {\n",
       "        text-align: right;\n",
       "    }\n",
       "\n",
       "    .dataframe thead th {\n",
       "        text-align: left;\n",
       "    }\n",
       "\n",
       "    .dataframe tbody tr th {\n",
       "        vertical-align: top;\n",
       "    }\n",
       "</style>\n",
       "<table border=\"1\" class=\"dataframe\">\n",
       "  <thead>\n",
       "    <tr style=\"text-align: right;\">\n",
       "      <th></th>\n",
       "      <th>Video_id</th>\n",
       "      <th>title</th>\n",
       "      <th>description</th>\n",
       "      <th>catagory</th>\n",
       "    </tr>\n",
       "  </thead>\n",
       "  <tbody>\n",
       "    <tr>\n",
       "      <th>0</th>\n",
       "      <td>Yo5nOeHz</td>\n",
       "      <td>Gk Tricks in Hindi |भारत के लोक नृत्य</td>\n",
       "      <td>general awareness in Hindi | gk short tricks |...</td>\n",
       "      <td>Art &amp; Dance</td>\n",
       "    </tr>\n",
       "    <tr>\n",
       "      <th>1</th>\n",
       "      <td>Usyc--VfHU</td>\n",
       "      <td></td>\n",
       "      <td>And we are back with Dances. You literally wil...</td>\n",
       "      <td>Art &amp; Dance</td>\n",
       "    </tr>\n",
       "    <tr>\n",
       "      <th>2</th>\n",
       "      <td>YtFsn-YaO-A</td>\n",
       "      <td></td>\n",
       "      <td>Support for CAF Classes 👉 - http://bit.ly/2KGX...</td>\n",
       "      <td>Art &amp; Dance</td>\n",
       "    </tr>\n",
       "    <tr>\n",
       "      <th>3</th>\n",
       "      <td>KfD5ztfTUig</td>\n",
       "      <td></td>\n",
       "      <td>Performing Arts - Classical and Folk Dances of...</td>\n",
       "      <td>Art &amp; Dance</td>\n",
       "    </tr>\n",
       "    <tr>\n",
       "      <th>4</th>\n",
       "      <td>K4yWFUKX0</td>\n",
       "      <td></td>\n",
       "      <td>Static GK: Regional Dances of India, Classical...</td>\n",
       "      <td>Art &amp; Dance</td>\n",
       "    </tr>\n",
       "    <tr>\n",
       "      <th>5</th>\n",
       "      <td>8ScZDglWOMY</td>\n",
       "      <td></td>\n",
       "      <td>Follow Arti Chhawari on Unacademy here: https:...</td>\n",
       "      <td>Art &amp; Dance</td>\n",
       "    </tr>\n",
       "    <tr>\n",
       "      <th>6</th>\n",
       "      <td>-b1ZujcIyV0</td>\n",
       "      <td>Best Trick to Remember Dance Form of Indian St...</td>\n",
       "      <td>Watch this video to learn the best trick to re...</td>\n",
       "      <td>Art &amp; Dance</td>\n",
       "    </tr>\n",
       "    <tr>\n",
       "      <th>7</th>\n",
       "      <td>8_vrmvpRMQ</td>\n",
       "      <td>Art and Culture of India for RRB NTPC | Indian...</td>\n",
       "      <td>General Awareness for RRB NTPC 2019 | Art and ...</td>\n",
       "      <td>Art &amp; Dance</td>\n",
       "    </tr>\n",
       "    <tr>\n",
       "      <th>8</th>\n",
       "      <td>_4WmgIyg6rY</td>\n",
       "      <td>Eye Dancing and India’s Ancient Art of Kathakali</td>\n",
       "      <td>Kathakali is a traditional Indian dance native...</td>\n",
       "      <td>Art &amp; Dance</td>\n",
       "    </tr>\n",
       "    <tr>\n",
       "      <th>9</th>\n",
       "      <td>LgtFlXKC8</td>\n",
       "      <td>Folk Dances of India - Static General Knowledge</td>\n",
       "      <td>Download the Poket News App - http://bit.ly/2J...</td>\n",
       "      <td>Art &amp; Dance</td>\n",
       "    </tr>\n",
       "    <tr>\n",
       "      <th>10</th>\n",
       "      <td>LY6Zqimdj38</td>\n",
       "      <td>Top 5 Dance Auditions On India's Got Talent | ...</td>\n",
       "      <td>The best dance auditions from Got Talent India...</td>\n",
       "      <td>Art &amp; Dance</td>\n",
       "    </tr>\n",
       "    <tr>\n",
       "      <th>11</th>\n",
       "      <td>zsRjGfRcya8</td>\n",
       "      <td></td>\n",
       "      <td>To watch all lessons click here:- https://goo....</td>\n",
       "      <td>Art &amp; Dance</td>\n",
       "    </tr>\n",
       "    <tr>\n",
       "      <th>12</th>\n",
       "      <td>JHBpBTQhW1</td>\n",
       "      <td></td>\n",
       "      <td>Gk Hindi: शास्त्रीय नृत्य \\nनोट :- यक्षगान शास...</td>\n",
       "      <td>Art &amp; Dance</td>\n",
       "    </tr>\n",
       "    <tr>\n",
       "      <th>13</th>\n",
       "      <td>jY84doDsK6U</td>\n",
       "      <td></td>\n",
       "      <td>Gk Hindi | indian geography | Best gk trick | ...</td>\n",
       "      <td>Art &amp; Dance</td>\n",
       "    </tr>\n",
       "    <tr>\n",
       "      <th>14</th>\n",
       "      <td>Rvf0C1pWGJ8</td>\n",
       "      <td></td>\n",
       "      <td>Important Sports Trophies and Cups  | List of ...</td>\n",
       "      <td>Art &amp; Dance</td>\n",
       "    </tr>\n",
       "    <tr>\n",
       "      <th>15</th>\n",
       "      <td>InN8xgtg0A</td>\n",
       "      <td>Dance India Dance | West Ke Singhams - Mansi |...</td>\n",
       "      <td>Dance India Dance |  West Ke Singhams - Mansi ...</td>\n",
       "      <td>Art &amp; Dance</td>\n",
       "    </tr>\n",
       "    <tr>\n",
       "      <th>16</th>\n",
       "      <td>Yo5nOeHz</td>\n",
       "      <td>Gk Tricks in Hindi |भारत के लोक नृत्य</td>\n",
       "      <td>general awareness in Hindi | gk short tricks |...</td>\n",
       "      <td>Art &amp; Dance</td>\n",
       "    </tr>\n",
       "    <tr>\n",
       "      <th>17</th>\n",
       "      <td>Usyc--VfHU</td>\n",
       "      <td>Art and Culture of India for CSE: Part 2.1 Dan...</td>\n",
       "      <td>And we are back with Dances. You literally wil...</td>\n",
       "      <td>Art &amp; Dance</td>\n",
       "    </tr>\n",
       "    <tr>\n",
       "      <th>18</th>\n",
       "      <td>YtFsn-YaO-A</td>\n",
       "      <td>Dances in India | Art and Culture (Static GK) ...</td>\n",
       "      <td>Support for CAF Classes 👉 - http://bit.ly/2KGX...</td>\n",
       "      <td>Art &amp; Dance</td>\n",
       "    </tr>\n",
       "    <tr>\n",
       "      <th>19</th>\n",
       "      <td>KfD5ztfTUig</td>\n",
       "      <td>Classical and Folk Dances of India | Indian Ar...</td>\n",
       "      <td>Performing Arts - Classical and Folk Dances of...</td>\n",
       "      <td>Art &amp; Dance</td>\n",
       "    </tr>\n",
       "    <tr>\n",
       "      <th>20</th>\n",
       "      <td>K4yWFUKX0</td>\n",
       "      <td>Regional Dances of India in Hindi | Static GK</td>\n",
       "      <td>Static GK: Regional Dances of India, Classical...</td>\n",
       "      <td>Art &amp; Dance</td>\n",
       "    </tr>\n",
       "    <tr>\n",
       "      <th>21</th>\n",
       "      <td>-b1ZujcIyV0</td>\n",
       "      <td>Best Trick to Remember Dance Form of Indian St...</td>\n",
       "      <td>Watch this video to learn the best trick to re...</td>\n",
       "      <td>Art &amp; Dance</td>\n",
       "    </tr>\n",
       "    <tr>\n",
       "      <th>22</th>\n",
       "      <td>8ScZDglWOMY</td>\n",
       "      <td>Special Class - Important Dance Forms of India...</td>\n",
       "      <td>Follow Arti Chhawari on Unacademy here: https:...</td>\n",
       "      <td>Art &amp; Dance</td>\n",
       "    </tr>\n",
       "    <tr>\n",
       "      <th>23</th>\n",
       "      <td>8_vrmvpRMQ</td>\n",
       "      <td>Art and Culture of India for RRB NTPC | Indian...</td>\n",
       "      <td>General Awareness for RRB NTPC 2019 | Art and ...</td>\n",
       "      <td>Art &amp; Dance</td>\n",
       "    </tr>\n",
       "    <tr>\n",
       "      <th>24</th>\n",
       "      <td>_4WmgIyg6rY</td>\n",
       "      <td></td>\n",
       "      <td>Kathakali is a traditional Indian dance native...</td>\n",
       "      <td>Art &amp; Dance</td>\n",
       "    </tr>\n",
       "    <tr>\n",
       "      <th>25</th>\n",
       "      <td>LgtFlXKC8</td>\n",
       "      <td>Folk Dances of India - Static General Knowledge</td>\n",
       "      <td>Download the Poket News App - http://bit.ly/2J...</td>\n",
       "      <td>Art &amp; Dance</td>\n",
       "    </tr>\n",
       "    <tr>\n",
       "      <th>26</th>\n",
       "      <td>zsRjGfRcya8</td>\n",
       "      <td>[Hindi] Crash Course on the Indian Art and Cul...</td>\n",
       "      <td>To watch all lessons click here:- https://goo....</td>\n",
       "      <td>Art &amp; Dance</td>\n",
       "    </tr>\n",
       "    <tr>\n",
       "      <th>27</th>\n",
       "      <td>xDDJxom05H</td>\n",
       "      <td>Top 10 Indian Dancers | Vote for your Best?</td>\n",
       "      <td>We have some extremely talented Dancers in Ind...</td>\n",
       "      <td>Art &amp; Dance</td>\n",
       "    </tr>\n",
       "    <tr>\n",
       "      <th>28</th>\n",
       "      <td>JHBpBTQhW1</td>\n",
       "      <td>Gk Tricks In Hindi | शास्त्रीय नृत्य | SSC ,MP...</td>\n",
       "      <td>Gk Hindi: शास्त्रीय नृत्य \\nनोट :- यक्षगान शास...</td>\n",
       "      <td>Art &amp; Dance</td>\n",
       "    </tr>\n",
       "    <tr>\n",
       "      <th>29</th>\n",
       "      <td>jY84doDsK6U</td>\n",
       "      <td>Gk Tricks | भारत के प्रमुख नदी बांध (Dam) | SS...</td>\n",
       "      <td>Gk Hindi | indian geography | Best gk trick | ...</td>\n",
       "      <td>Art &amp; Dance</td>\n",
       "    </tr>\n",
       "    <tr>\n",
       "      <th>30</th>\n",
       "      <td>Rvf0C1pWGJ8</td>\n",
       "      <td></td>\n",
       "      <td>Important Sports Trophies and Cups  | List of ...</td>\n",
       "      <td>Art &amp; Dance</td>\n",
       "    </tr>\n",
       "    <tr>\n",
       "      <th>31</th>\n",
       "      <td>2BLOM9PrkM</td>\n",
       "      <td>UNBELIEVABLE DUET DANCE PERFORMANCES - Dance I...</td>\n",
       "      <td>DID Season 4 is to look at dance as a means an...</td>\n",
       "      <td>Art &amp; Dance</td>\n",
       "    </tr>\n",
       "    <tr>\n",
       "      <th>32</th>\n",
       "      <td>rBM5hKAjZA</td>\n",
       "      <td>8 Classical Dance Forms of India सीखिए 15 Minu...</td>\n",
       "      <td>You can watch all courses by Khushboo here: ht...</td>\n",
       "      <td>Art &amp; Dance</td>\n",
       "    </tr>\n",
       "    <tr>\n",
       "      <th>33</th>\n",
       "      <td>InN8xgtg0A</td>\n",
       "      <td></td>\n",
       "      <td>Dance India Dance |  West Ke Singhams - Mansi ...</td>\n",
       "      <td>Art &amp; Dance</td>\n",
       "    </tr>\n",
       "    <tr>\n",
       "      <th>34</th>\n",
       "      <td>AJXX0_WnX4</td>\n",
       "      <td>The Kings | Kings United India | Dance Showreel</td>\n",
       "      <td>We do not own the copyrights of the songs used...</td>\n",
       "      <td>Art &amp; Dance</td>\n",
       "    </tr>\n",
       "    <tr>\n",
       "      <th>35</th>\n",
       "      <td>LY6Zqimdj38</td>\n",
       "      <td>Top 5 Dance Auditions On India's Got Talent | ...</td>\n",
       "      <td>The best dance auditions from Got Talent India...</td>\n",
       "      <td>Art &amp; Dance</td>\n",
       "    </tr>\n",
       "    <tr>\n",
       "      <th>36</th>\n",
       "      <td>OWCDJnnxOSY</td>\n",
       "      <td>V.Unbeatable Dance Crew From India Soars, Flie...</td>\n",
       "      <td>WHAT just happened?! This JAW-DROPPING dance g...</td>\n",
       "      <td>Art &amp; Dance</td>\n",
       "    </tr>\n",
       "    <tr>\n",
       "      <th>37</th>\n",
       "      <td>Rh1TmMpz</td>\n",
       "      <td>Classical &amp; Folk Dances of India - Static Gene...</td>\n",
       "      <td>Download the Poket News App - http://bit.ly/2J...</td>\n",
       "      <td>Art &amp; Dance</td>\n",
       "    </tr>\n",
       "    <tr>\n",
       "      <th>38</th>\n",
       "      <td>jRD75YWVSuY</td>\n",
       "      <td>Different dance forms of India with their stat...</td>\n",
       "      <td>These are the different dance forms with their...</td>\n",
       "      <td>Art &amp; Dance</td>\n",
       "    </tr>\n",
       "  </tbody>\n",
       "</table>\n",
       "</div>"
      ],
      "text/plain": [
       "       Video_id                                              title  \\\n",
       "0      Yo5nOeHz              Gk Tricks in Hindi |भारत के लोक नृत्य   \n",
       "1    Usyc--VfHU                                                      \n",
       "2   YtFsn-YaO-A                                                      \n",
       "3   KfD5ztfTUig                                                      \n",
       "4     K4yWFUKX0                                                      \n",
       "5   8ScZDglWOMY                                                      \n",
       "6   -b1ZujcIyV0  Best Trick to Remember Dance Form of Indian St...   \n",
       "7    8_vrmvpRMQ  Art and Culture of India for RRB NTPC | Indian...   \n",
       "8   _4WmgIyg6rY   Eye Dancing and India’s Ancient Art of Kathakali   \n",
       "9     LgtFlXKC8    Folk Dances of India - Static General Knowledge   \n",
       "10  LY6Zqimdj38  Top 5 Dance Auditions On India's Got Talent | ...   \n",
       "11  zsRjGfRcya8                                                      \n",
       "12   JHBpBTQhW1                                                      \n",
       "13  jY84doDsK6U                                                      \n",
       "14  Rvf0C1pWGJ8                                                      \n",
       "15   InN8xgtg0A  Dance India Dance | West Ke Singhams - Mansi |...   \n",
       "16     Yo5nOeHz              Gk Tricks in Hindi |भारत के लोक नृत्य   \n",
       "17   Usyc--VfHU  Art and Culture of India for CSE: Part 2.1 Dan...   \n",
       "18  YtFsn-YaO-A  Dances in India | Art and Culture (Static GK) ...   \n",
       "19  KfD5ztfTUig  Classical and Folk Dances of India | Indian Ar...   \n",
       "20    K4yWFUKX0      Regional Dances of India in Hindi | Static GK   \n",
       "21  -b1ZujcIyV0  Best Trick to Remember Dance Form of Indian St...   \n",
       "22  8ScZDglWOMY  Special Class - Important Dance Forms of India...   \n",
       "23   8_vrmvpRMQ  Art and Culture of India for RRB NTPC | Indian...   \n",
       "24  _4WmgIyg6rY                                                      \n",
       "25    LgtFlXKC8    Folk Dances of India - Static General Knowledge   \n",
       "26  zsRjGfRcya8  [Hindi] Crash Course on the Indian Art and Cul...   \n",
       "27   xDDJxom05H        Top 10 Indian Dancers | Vote for your Best?   \n",
       "28   JHBpBTQhW1  Gk Tricks In Hindi | शास्त्रीय नृत्य | SSC ,MP...   \n",
       "29  jY84doDsK6U  Gk Tricks | भारत के प्रमुख नदी बांध (Dam) | SS...   \n",
       "30  Rvf0C1pWGJ8                                                      \n",
       "31   2BLOM9PrkM  UNBELIEVABLE DUET DANCE PERFORMANCES - Dance I...   \n",
       "32   rBM5hKAjZA  8 Classical Dance Forms of India सीखिए 15 Minu...   \n",
       "33   InN8xgtg0A                                                      \n",
       "34   AJXX0_WnX4    The Kings | Kings United India | Dance Showreel   \n",
       "35  LY6Zqimdj38  Top 5 Dance Auditions On India's Got Talent | ...   \n",
       "36  OWCDJnnxOSY  V.Unbeatable Dance Crew From India Soars, Flie...   \n",
       "37     Rh1TmMpz  Classical & Folk Dances of India - Static Gene...   \n",
       "38  jRD75YWVSuY  Different dance forms of India with their stat...   \n",
       "\n",
       "                                          description     catagory  \n",
       "0   general awareness in Hindi | gk short tricks |...  Art & Dance  \n",
       "1   And we are back with Dances. You literally wil...  Art & Dance  \n",
       "2   Support for CAF Classes 👉 - http://bit.ly/2KGX...  Art & Dance  \n",
       "3   Performing Arts - Classical and Folk Dances of...  Art & Dance  \n",
       "4   Static GK: Regional Dances of India, Classical...  Art & Dance  \n",
       "5   Follow Arti Chhawari on Unacademy here: https:...  Art & Dance  \n",
       "6   Watch this video to learn the best trick to re...  Art & Dance  \n",
       "7   General Awareness for RRB NTPC 2019 | Art and ...  Art & Dance  \n",
       "8   Kathakali is a traditional Indian dance native...  Art & Dance  \n",
       "9   Download the Poket News App - http://bit.ly/2J...  Art & Dance  \n",
       "10  The best dance auditions from Got Talent India...  Art & Dance  \n",
       "11  To watch all lessons click here:- https://goo....  Art & Dance  \n",
       "12  Gk Hindi: शास्त्रीय नृत्य \\nनोट :- यक्षगान शास...  Art & Dance  \n",
       "13  Gk Hindi | indian geography | Best gk trick | ...  Art & Dance  \n",
       "14  Important Sports Trophies and Cups  | List of ...  Art & Dance  \n",
       "15  Dance India Dance |  West Ke Singhams - Mansi ...  Art & Dance  \n",
       "16  general awareness in Hindi | gk short tricks |...  Art & Dance  \n",
       "17  And we are back with Dances. You literally wil...  Art & Dance  \n",
       "18  Support for CAF Classes 👉 - http://bit.ly/2KGX...  Art & Dance  \n",
       "19  Performing Arts - Classical and Folk Dances of...  Art & Dance  \n",
       "20  Static GK: Regional Dances of India, Classical...  Art & Dance  \n",
       "21  Watch this video to learn the best trick to re...  Art & Dance  \n",
       "22  Follow Arti Chhawari on Unacademy here: https:...  Art & Dance  \n",
       "23  General Awareness for RRB NTPC 2019 | Art and ...  Art & Dance  \n",
       "24  Kathakali is a traditional Indian dance native...  Art & Dance  \n",
       "25  Download the Poket News App - http://bit.ly/2J...  Art & Dance  \n",
       "26  To watch all lessons click here:- https://goo....  Art & Dance  \n",
       "27  We have some extremely talented Dancers in Ind...  Art & Dance  \n",
       "28  Gk Hindi: शास्त्रीय नृत्य \\nनोट :- यक्षगान शास...  Art & Dance  \n",
       "29  Gk Hindi | indian geography | Best gk trick | ...  Art & Dance  \n",
       "30  Important Sports Trophies and Cups  | List of ...  Art & Dance  \n",
       "31  DID Season 4 is to look at dance as a means an...  Art & Dance  \n",
       "32  You can watch all courses by Khushboo here: ht...  Art & Dance  \n",
       "33  Dance India Dance |  West Ke Singhams - Mansi ...  Art & Dance  \n",
       "34  We do not own the copyrights of the songs used...  Art & Dance  \n",
       "35  The best dance auditions from Got Talent India...  Art & Dance  \n",
       "36  WHAT just happened?! This JAW-DROPPING dance g...  Art & Dance  \n",
       "37  Download the Poket News App - http://bit.ly/2J...  Art & Dance  \n",
       "38  These are the different dance forms with their...  Art & Dance  "
      ]
     },
     "execution_count": 12,
     "metadata": {},
     "output_type": "execute_result"
    }
   ],
   "source": [
    "df_artndance"
   ]
  },
  {
   "cell_type": "markdown",
   "metadata": {},
   "source": [
    "# Below variable is for saving the Travel videos only.\n"
   ]
  },
  {
   "cell_type": "code",
   "execution_count": 27,
   "metadata": {},
   "outputs": [],
   "source": [
    "travel_url = \"https://www.youtube.com/results?search_query=travel+india\""
   ]
  },
  {
   "cell_type": "code",
   "execution_count": 28,
   "metadata": {},
   "outputs": [],
   "source": [
    "driver = webdriver.Chrome(\"C:\\\\Users\\\\user\\\\Downloads\\\\chromedriver_win32\\\\chromedriver.exe\")\n",
    "driver.get(travel_url)"
   ]
  },
  {
   "cell_type": "code",
   "execution_count": 29,
   "metadata": {},
   "outputs": [
    {
     "name": "stdout",
     "output_type": "stream",
     "text": [
      "10\n"
     ]
    }
   ],
   "source": [
    "user_data2 = driver.find_elements_by_xpath('//*[@id=\"video-title\"]')\n",
    "links2 = []\n",
    "for i in user_data2:\n",
    "    links2.append(i.get_attribute('href'))\n",
    "print(len(links2))"
   ]
  },
  {
   "cell_type": "code",
   "execution_count": 25,
   "metadata": {},
   "outputs": [],
   "source": [
    "df_travel = pd.DataFrame(columns = ['Video_id', 'title', 'description', 'catagory'])"
   ]
  },
  {
   "cell_type": "code",
   "execution_count": 30,
   "metadata": {},
   "outputs": [],
   "source": [
    "wait = WebDriverWait(driver, 10)\n",
    "v_category = \"Travel\"\n",
    "for x in links2:\n",
    "    #Extract dates from for each user on a page\n",
    "    driver.get(x)\n",
    "    v_id = x.strip('https://www.youtube.com/watch?v=')\n",
    "    v_title = wait.until(EC.presence_of_element_located((By.CSS_SELECTOR,\"h1.title yt-formatted-string\"))).text\n",
    "    v_description = wait.until(EC.presence_of_element_located((By.CSS_SELECTOR,\"div#description yt-formatted-string\"))).text\n",
    "    df_travel.loc[len(df_travel)] = [v_id, v_title, v_description, v_category]"
   ]
  },
  {
   "cell_type": "code",
   "execution_count": 31,
   "metadata": {},
   "outputs": [
    {
     "data": {
      "text/html": [
       "<div>\n",
       "<style>\n",
       "    .dataframe thead tr:only-child th {\n",
       "        text-align: right;\n",
       "    }\n",
       "\n",
       "    .dataframe thead th {\n",
       "        text-align: left;\n",
       "    }\n",
       "\n",
       "    .dataframe tbody tr th {\n",
       "        vertical-align: top;\n",
       "    }\n",
       "</style>\n",
       "<table border=\"1\" class=\"dataframe\">\n",
       "  <thead>\n",
       "    <tr style=\"text-align: right;\">\n",
       "      <th></th>\n",
       "      <th>Video_id</th>\n",
       "      <th>title</th>\n",
       "      <th>description</th>\n",
       "      <th>catagory</th>\n",
       "    </tr>\n",
       "  </thead>\n",
       "  <tbody>\n",
       "    <tr>\n",
       "      <th>0</th>\n",
       "      <td>U479w79_LW</td>\n",
       "      <td>Ultimate India Motorbike Trip 🇮🇳| 8,000km in 4...</td>\n",
       "      <td>Learn how I started traveling full-time at 19:...</td>\n",
       "      <td>Travel</td>\n",
       "    </tr>\n",
       "    <tr>\n",
       "      <th>1</th>\n",
       "      <td>8mFPCD47_xU</td>\n",
       "      <td>INDIAN MONSOON FOOD with FOREIGNER + SPEAKING ...</td>\n",
       "      <td>Indian monsoon food with foreigner + SPEAKING ...</td>\n",
       "      <td>Travel</td>\n",
       "    </tr>\n",
       "    <tr>\n",
       "      <th>2</th>\n",
       "      <td>n79Rv0F48</td>\n",
       "      <td>Backpacking In Meghalaya | NorthEast India Tri...</td>\n",
       "      <td>In this video I explored North East India, sta...</td>\n",
       "      <td>Travel</td>\n",
       "    </tr>\n",
       "    <tr>\n",
       "      <th>3</th>\n",
       "      <td>IgAnj6r1O48</td>\n",
       "      <td></td>\n",
       "      <td>India is an enormous and diverse destination. ...</td>\n",
       "      <td>Travel</td>\n",
       "    </tr>\n",
       "    <tr>\n",
       "      <th>4</th>\n",
       "      <td>JLZlCZ0</td>\n",
       "      <td>Ep 1| Travelling through North East India | Of...</td>\n",
       "      <td>The journey to Arunachal, North East India beg...</td>\n",
       "      <td>Travel</td>\n",
       "    </tr>\n",
       "    <tr>\n",
       "      <th>5</th>\n",
       "      <td>RHON79UmBXY</td>\n",
       "      <td>VIETNAM : INDIAN Solo Travel Journey just 6000...</td>\n",
       "      <td>Vietnam visa pre-approval letter at a reasonab...</td>\n",
       "      <td>Travel</td>\n",
       "    </tr>\n",
       "    <tr>\n",
       "      <th>6</th>\n",
       "      <td>S4KdYhUZS2E</td>\n",
       "      <td>Top 10 Places To Visit In India During Monsoon...</td>\n",
       "      <td>http://www.tourismbharat.com/best-mon...\\n\\nCh...</td>\n",
       "      <td>Travel</td>\n",
       "    </tr>\n",
       "    <tr>\n",
       "      <th>7</th>\n",
       "      <td>Uzt9fLwN9Ig</td>\n",
       "      <td>Bali Indonesia Travel Guide From India</td>\n",
       "      <td>If you want to know  complete Bali Indonesia T...</td>\n",
       "      <td>Travel</td>\n",
       "    </tr>\n",
       "    <tr>\n",
       "      <th>8</th>\n",
       "      <td>DYfVbXI7Xj</td>\n",
       "      <td>So this is India's most modern city?! | Bangalore</td>\n",
       "      <td>We visited the most modern city in India, Beng...</td>\n",
       "      <td>Travel</td>\n",
       "    </tr>\n",
       "    <tr>\n",
       "      <th>9</th>\n",
       "      <td>g-AN0sycZGg</td>\n",
       "      <td>Why Indians Go to Pattaya ? Thailand Travel vl...</td>\n",
       "      <td>Thailand - Pattaya Travel Vlog in Hindi by RK\\...</td>\n",
       "      <td>Travel</td>\n",
       "    </tr>\n",
       "  </tbody>\n",
       "</table>\n",
       "</div>"
      ],
      "text/plain": [
       "      Video_id                                              title  \\\n",
       "0   U479w79_LW  Ultimate India Motorbike Trip 🇮🇳| 8,000km in 4...   \n",
       "1  8mFPCD47_xU  INDIAN MONSOON FOOD with FOREIGNER + SPEAKING ...   \n",
       "2    n79Rv0F48  Backpacking In Meghalaya | NorthEast India Tri...   \n",
       "3  IgAnj6r1O48                                                      \n",
       "4      JLZlCZ0  Ep 1| Travelling through North East India | Of...   \n",
       "5  RHON79UmBXY  VIETNAM : INDIAN Solo Travel Journey just 6000...   \n",
       "6  S4KdYhUZS2E  Top 10 Places To Visit In India During Monsoon...   \n",
       "7  Uzt9fLwN9Ig             Bali Indonesia Travel Guide From India   \n",
       "8   DYfVbXI7Xj  So this is India's most modern city?! | Bangalore   \n",
       "9  g-AN0sycZGg  Why Indians Go to Pattaya ? Thailand Travel vl...   \n",
       "\n",
       "                                         description catagory  \n",
       "0  Learn how I started traveling full-time at 19:...   Travel  \n",
       "1  Indian monsoon food with foreigner + SPEAKING ...   Travel  \n",
       "2  In this video I explored North East India, sta...   Travel  \n",
       "3  India is an enormous and diverse destination. ...   Travel  \n",
       "4  The journey to Arunachal, North East India beg...   Travel  \n",
       "5  Vietnam visa pre-approval letter at a reasonab...   Travel  \n",
       "6  http://www.tourismbharat.com/best-mon...\\n\\nCh...   Travel  \n",
       "7  If you want to know  complete Bali Indonesia T...   Travel  \n",
       "8  We visited the most modern city in India, Beng...   Travel  \n",
       "9  Thailand - Pattaya Travel Vlog in Hindi by RK\\...   Travel  "
      ]
     },
     "execution_count": 31,
     "metadata": {},
     "output_type": "execute_result"
    }
   ],
   "source": [
    "df_travel"
   ]
  },
  {
   "cell_type": "markdown",
   "metadata": {},
   "source": [
    "## Below variable is for saving the Food videos only"
   ]
  },
  {
   "cell_type": "code",
   "execution_count": 42,
   "metadata": {},
   "outputs": [],
   "source": [
    "food_url = \"https://www.youtube.com/results?search_query=food+india\""
   ]
  },
  {
   "cell_type": "code",
   "execution_count": 43,
   "metadata": {},
   "outputs": [],
   "source": [
    "driver = webdriver.Chrome(\"C:\\\\Users\\\\user\\\\Downloads\\\\chromedriver_win32\\\\chromedriver.exe\")\n",
    "driver.get(food_url)"
   ]
  },
  {
   "cell_type": "code",
   "execution_count": 44,
   "metadata": {},
   "outputs": [
    {
     "name": "stdout",
     "output_type": "stream",
     "text": [
      "10\n"
     ]
    }
   ],
   "source": [
    "user_data3 = driver.find_elements_by_xpath('//*[@id=\"video-title\"]')\n",
    "links3 = []\n",
    "for i in user_data3:\n",
    "    links3.append(i.get_attribute('href'))\n",
    "print(len(links3))"
   ]
  },
  {
   "cell_type": "code",
   "execution_count": 45,
   "metadata": {},
   "outputs": [],
   "source": [
    "df_food = pd.DataFrame(columns = ['Video_id', 'title', 'description', 'catagory'])"
   ]
  },
  {
   "cell_type": "code",
   "execution_count": 46,
   "metadata": {},
   "outputs": [],
   "source": [
    "wait = WebDriverWait(driver, 10)\n",
    "v_category = \"Food\"\n",
    "for x in links3:\n",
    "    #Extract dates from for each user on a page\n",
    "    driver.get(x)\n",
    "    v_id = x.strip('https://www.youtube.com/watch?v=')\n",
    "    v_title = wait.until(EC.presence_of_element_located((By.CSS_SELECTOR,\"h1.title yt-formatted-string\"))).text\n",
    "    v_description = wait.until(EC.presence_of_element_located((By.CSS_SELECTOR,\"div#description yt-formatted-string\"))).text\n",
    "    df_food.loc[len(df_food)] = [v_id, v_title, v_description, v_category]"
   ]
  },
  {
   "cell_type": "code",
   "execution_count": 47,
   "metadata": {},
   "outputs": [
    {
     "data": {
      "text/html": [
       "<div>\n",
       "<style>\n",
       "    .dataframe thead tr:only-child th {\n",
       "        text-align: right;\n",
       "    }\n",
       "\n",
       "    .dataframe thead th {\n",
       "        text-align: left;\n",
       "    }\n",
       "\n",
       "    .dataframe tbody tr th {\n",
       "        vertical-align: top;\n",
       "    }\n",
       "</style>\n",
       "<table border=\"1\" class=\"dataframe\">\n",
       "  <thead>\n",
       "    <tr style=\"text-align: right;\">\n",
       "      <th></th>\n",
       "      <th>Video_id</th>\n",
       "      <th>title</th>\n",
       "      <th>description</th>\n",
       "      <th>catagory</th>\n",
       "    </tr>\n",
       "  </thead>\n",
       "  <tbody>\n",
       "    <tr>\n",
       "      <th>0</th>\n",
       "      <td>j_j0atppT8</td>\n",
       "      <td></td>\n",
       "      <td>In the 14th Episode of Odisha Food Series, we ...</td>\n",
       "      <td>Food</td>\n",
       "    </tr>\n",
       "    <tr>\n",
       "      <th>1</th>\n",
       "      <td>JjKGcSvPm-</td>\n",
       "      <td>Top 10 Indian Street Foods in Amritsar, India ...</td>\n",
       "      <td>Back in November of 2018, I spent three weeks ...</td>\n",
       "      <td>Food</td>\n",
       "    </tr>\n",
       "    <tr>\n",
       "      <th>2</th>\n",
       "      <td>-0EOo46GjkM</td>\n",
       "      <td></td>\n",
       "      <td>Address - Opposite Collector Office, Yavatmal ...</td>\n",
       "      <td>Food</td>\n",
       "    </tr>\n",
       "    <tr>\n",
       "      <th>3</th>\n",
       "      <td>R0DI_9rqUO</td>\n",
       "      <td></td>\n",
       "      <td>Indian Street Food Making Videos from Delhi, I...</td>\n",
       "      <td>Food</td>\n",
       "    </tr>\n",
       "    <tr>\n",
       "      <th>4</th>\n",
       "      <td>VoCa-VY3VNI</td>\n",
       "      <td></td>\n",
       "      <td>Location: Shree Sai Omelette / Patil Omelette,...</td>\n",
       "      <td>Food</td>\n",
       "    </tr>\n",
       "    <tr>\n",
       "      <th>5</th>\n",
       "      <td>Atii8FGebiQ</td>\n",
       "      <td>SHOCKING INDIAN FOOD!!! Did NOT Expect to See ...</td>\n",
       "      <td>🎥$100 INDIAN STREET FOOD CHALLENGE! » https://...</td>\n",
       "      <td>Food</td>\n",
       "    </tr>\n",
       "    <tr>\n",
       "      <th>6</th>\n",
       "      <td>U52suzO5J0</td>\n",
       "      <td>Bhubaneshwar Food Tour With Veggiepaaji</td>\n",
       "      <td>In the 12th Episode of Odisha Food Series, we ...</td>\n",
       "      <td>Food</td>\n",
       "    </tr>\n",
       "    <tr>\n",
       "      <th>7</th>\n",
       "      <td>nozXahIHFK8</td>\n",
       "      <td>Unlimited Indian Food at BARBEQUE NATION in Mu...</td>\n",
       "      <td>Today we ate a lot of food at Barbeque Nation ...</td>\n",
       "      <td>Food</td>\n",
       "    </tr>\n",
       "    <tr>\n",
       "      <th>8</th>\n",
       "      <td>G72Oz_HjsU4</td>\n",
       "      <td></td>\n",
       "      <td>For 24 Hours I lived just on one dollar Indian...</td>\n",
       "      <td>Food</td>\n",
       "    </tr>\n",
       "    <tr>\n",
       "      <th>9</th>\n",
       "      <td>Su-IrguSeb8</td>\n",
       "      <td></td>\n",
       "      <td>This small stall in Surat is one gem of the pl...</td>\n",
       "      <td>Food</td>\n",
       "    </tr>\n",
       "  </tbody>\n",
       "</table>\n",
       "</div>"
      ],
      "text/plain": [
       "      Video_id                                              title  \\\n",
       "0   j_j0atppT8                                                      \n",
       "1   JjKGcSvPm-  Top 10 Indian Street Foods in Amritsar, India ...   \n",
       "2  -0EOo46GjkM                                                      \n",
       "3   R0DI_9rqUO                                                      \n",
       "4  VoCa-VY3VNI                                                      \n",
       "5  Atii8FGebiQ  SHOCKING INDIAN FOOD!!! Did NOT Expect to See ...   \n",
       "6   U52suzO5J0            Bhubaneshwar Food Tour With Veggiepaaji   \n",
       "7  nozXahIHFK8  Unlimited Indian Food at BARBEQUE NATION in Mu...   \n",
       "8  G72Oz_HjsU4                                                      \n",
       "9  Su-IrguSeb8                                                      \n",
       "\n",
       "                                         description catagory  \n",
       "0  In the 14th Episode of Odisha Food Series, we ...     Food  \n",
       "1  Back in November of 2018, I spent three weeks ...     Food  \n",
       "2  Address - Opposite Collector Office, Yavatmal ...     Food  \n",
       "3  Indian Street Food Making Videos from Delhi, I...     Food  \n",
       "4  Location: Shree Sai Omelette / Patil Omelette,...     Food  \n",
       "5  🎥$100 INDIAN STREET FOOD CHALLENGE! » https://...     Food  \n",
       "6  In the 12th Episode of Odisha Food Series, we ...     Food  \n",
       "7  Today we ate a lot of food at Barbeque Nation ...     Food  \n",
       "8  For 24 Hours I lived just on one dollar Indian...     Food  \n",
       "9  This small stall in Surat is one gem of the pl...     Food  "
      ]
     },
     "execution_count": 47,
     "metadata": {},
     "output_type": "execute_result"
    }
   ],
   "source": [
    "df_food"
   ]
  },
  {
   "cell_type": "markdown",
   "metadata": {},
   "source": [
    "## Below variable is for saving the Science and Technology videos only"
   ]
  },
  {
   "cell_type": "code",
   "execution_count": 48,
   "metadata": {},
   "outputs": [],
   "source": [
    "sandt = \"https://www.youtube.com/results?search_query=science+and+technology\""
   ]
  },
  {
   "cell_type": "code",
   "execution_count": 49,
   "metadata": {},
   "outputs": [],
   "source": [
    "driver = webdriver.Chrome(\"C:\\\\Users\\\\user\\\\Downloads\\\\chromedriver_win32\\\\chromedriver.exe\")\n",
    "driver.get(sandt)"
   ]
  },
  {
   "cell_type": "code",
   "execution_count": 50,
   "metadata": {},
   "outputs": [
    {
     "name": "stdout",
     "output_type": "stream",
     "text": [
      "20\n"
     ]
    }
   ],
   "source": [
    "user_data4 = driver.find_elements_by_xpath('//*[@id=\"video-title\"]')\n",
    "links4 = []\n",
    "for i in user_data4:\n",
    "    links4.append(i.get_attribute('href'))\n",
    "print(len(links4))"
   ]
  },
  {
   "cell_type": "code",
   "execution_count": 51,
   "metadata": {},
   "outputs": [],
   "source": [
    "df_sandt = pd.DataFrame(columns = ['Video_id', 'title', 'description', 'catagory'])"
   ]
  },
  {
   "cell_type": "code",
   "execution_count": 52,
   "metadata": {},
   "outputs": [],
   "source": [
    "wait = WebDriverWait(driver, 20)\n",
    "v_category = \"Science_and_Technology\"\n",
    "for x in links4:\n",
    "    #Extract dates from for each user on a page\n",
    "    driver.get(x)\n",
    "    v_id = x.strip('https://www.youtube.com/watch?v=')\n",
    "    v_title = wait.until(EC.presence_of_element_located((By.CSS_SELECTOR,\"h1.title yt-formatted-string\"))).text\n",
    "    v_description = wait.until(EC.presence_of_element_located((By.CSS_SELECTOR,\"div#description yt-formatted-string\"))).text\n",
    "    df_sandt.loc[len(df_sandt)] = [v_id, v_title, v_description, v_category]"
   ]
  },
  {
   "cell_type": "code",
   "execution_count": 53,
   "metadata": {},
   "outputs": [
    {
     "data": {
      "text/html": [
       "<div>\n",
       "<style>\n",
       "    .dataframe thead tr:only-child th {\n",
       "        text-align: right;\n",
       "    }\n",
       "\n",
       "    .dataframe thead th {\n",
       "        text-align: left;\n",
       "    }\n",
       "\n",
       "    .dataframe tbody tr th {\n",
       "        vertical-align: top;\n",
       "    }\n",
       "</style>\n",
       "<table border=\"1\" class=\"dataframe\">\n",
       "  <thead>\n",
       "    <tr style=\"text-align: right;\">\n",
       "      <th></th>\n",
       "      <th>Video_id</th>\n",
       "      <th>title</th>\n",
       "      <th>description</th>\n",
       "      <th>catagory</th>\n",
       "    </tr>\n",
       "  </thead>\n",
       "  <tbody>\n",
       "    <tr>\n",
       "      <th>0</th>\n",
       "      <td>TW3msUFUwI</td>\n",
       "      <td>Science &amp; Technology current affairs of Last 6...</td>\n",
       "      <td>Download the Poket News App - http://bit.ly/2J...</td>\n",
       "      <td>Science_and_Technology</td>\n",
       "    </tr>\n",
       "    <tr>\n",
       "      <th>1</th>\n",
       "      <td>f3NWvUV8MD8</td>\n",
       "      <td>Welcome To Future</td>\n",
       "      <td>Theories of technology often attempt to predic...</td>\n",
       "      <td>Science_and_Technology</td>\n",
       "    </tr>\n",
       "    <tr>\n",
       "      <th>2</th>\n",
       "      <td>WK0NOUQ9iXE</td>\n",
       "      <td>Welcome To Future Technology</td>\n",
       "      <td>Hi friends Welcome to Question World\\nToday We...</td>\n",
       "      <td>Science_and_Technology</td>\n",
       "    </tr>\n",
       "    <tr>\n",
       "      <th>3</th>\n",
       "      <td>0DqpgV3w4</td>\n",
       "      <td>#SCIENCE &amp; TECHNOLOGY #CURRENT AFFAIRS 2019 (J...</td>\n",
       "      <td>SCIENCE &amp; TECHNOLOGY CURRENT AFFAIRS 2018 (JAN...</td>\n",
       "      <td>Science_and_Technology</td>\n",
       "    </tr>\n",
       "    <tr>\n",
       "      <th>4</th>\n",
       "      <td>BO5CchnV</td>\n",
       "      <td>Science and Technology | विज्ञानं एवं प्रोधोगि...</td>\n",
       "      <td>In this session in brief discussion on Science...</td>\n",
       "      <td>Science_and_Technology</td>\n",
       "    </tr>\n",
       "    <tr>\n",
       "      <th>5</th>\n",
       "      <td>64addG82-KY</td>\n",
       "      <td>Science and Technology Current affairs 2019 ||...</td>\n",
       "      <td>Master Current affairs 2019 pdf(₹30)updated- J...</td>\n",
       "      <td>Science_and_Technology</td>\n",
       "    </tr>\n",
       "    <tr>\n",
       "      <th>6</th>\n",
       "      <td>6iEMOgBZl</td>\n",
       "      <td></td>\n",
       "      <td>ISRO से जुड़े सभी महत्वपूर्ण प्रश्न || Science...</td>\n",
       "      <td>Science_and_Technology</td>\n",
       "    </tr>\n",
       "    <tr>\n",
       "      <th>7</th>\n",
       "      <td>YMe53fffLig</td>\n",
       "      <td>L1: Introduction to Science &amp; Technology I (UP...</td>\n",
       "      <td>Santosh Sharma and more top educators are teac...</td>\n",
       "      <td>Science_and_Technology</td>\n",
       "    </tr>\n",
       "    <tr>\n",
       "      <th>8</th>\n",
       "      <td>D1qMoqS_TV</td>\n",
       "      <td>अंतरिक्ष प्रौद्‍योगिकी | Space Technology | Sp...</td>\n",
       "      <td>8AM- अंतरिक्ष प्रौद्‍योगिकी | Gen. Science |  ...</td>\n",
       "      <td>Science_and_Technology</td>\n",
       "    </tr>\n",
       "    <tr>\n",
       "      <th>9</th>\n",
       "      <td>fPiqmhXDzOg</td>\n",
       "      <td>Space Technology Class 1 ll అంతరిక్షం ll Scien...</td>\n",
       "      <td>TSPSC/APPSC ONLINE CLASSES IN TELUGU MEDIUM FO...</td>\n",
       "      <td>Science_and_Technology</td>\n",
       "    </tr>\n",
       "    <tr>\n",
       "      <th>10</th>\n",
       "      <td>d6dxWNQj1GU</td>\n",
       "      <td>Most AMAZING Recent Technology!</td>\n",
       "      <td>Check out the most amazing recent technology! ...</td>\n",
       "      <td>Science_and_Technology</td>\n",
       "    </tr>\n",
       "    <tr>\n",
       "      <th>11</th>\n",
       "      <td>-B0dvYhxEKA</td>\n",
       "      <td>SCIENCE &amp; TECHNOLOGY || HAREESH ACADEMY || GEN...</td>\n",
       "      <td>SCIENCE &amp; TECHNOLOGY (GENERAL SCIENCE) FOR ALL...</td>\n",
       "      <td>Science_and_Technology</td>\n",
       "    </tr>\n",
       "    <tr>\n",
       "      <th>12</th>\n",
       "      <td>4HAkEyCdyCM</td>\n",
       "      <td>Building Science and Technology</td>\n",
       "      <td>Want to know why we went with this type of fou...</td>\n",
       "      <td>Science_and_Technology</td>\n",
       "    </tr>\n",
       "    <tr>\n",
       "      <th>13</th>\n",
       "      <td>2O5lIPJoTag</td>\n",
       "      <td></td>\n",
       "      <td>Top 3 New Technology Future Inventions Gadgets...</td>\n",
       "      <td>Science_and_Technology</td>\n",
       "    </tr>\n",
       "    <tr>\n",
       "      <th>14</th>\n",
       "      <td>CA19bfobhc0</td>\n",
       "      <td>The World In 2050 | Future Of World | Innovati...</td>\n",
       "      <td>The World In 2050 | Future Of World | Innovati...</td>\n",
       "      <td>Science_and_Technology</td>\n",
       "    </tr>\n",
       "    <tr>\n",
       "      <th>15</th>\n",
       "      <td>7kbOStEXecU</td>\n",
       "      <td></td>\n",
       "      <td>इस Video का PDF इस Link से जल्दी से Download क...</td>\n",
       "      <td>Science_and_Technology</td>\n",
       "    </tr>\n",
       "    <tr>\n",
       "      <th>16</th>\n",
       "      <td>Oqupjp0JiA4</td>\n",
       "      <td>Lecture 1, Science and tech Basics compilation...</td>\n",
       "      <td>Join the Political science and Mains Booster C...</td>\n",
       "      <td>Science_and_Technology</td>\n",
       "    </tr>\n",
       "    <tr>\n",
       "      <th>17</th>\n",
       "      <td>l9o33uBi40U</td>\n",
       "      <td>Amazing Science Toys/Gadgets 1</td>\n",
       "      <td>NEW VIDEO 😱➡️ https://youtu.be/GpY3WSB0jbs\\n\\n...</td>\n",
       "      <td>Science_and_Technology</td>\n",
       "    </tr>\n",
       "    <tr>\n",
       "      <th>18</th>\n",
       "      <td>WfAETETHQ4</td>\n",
       "      <td>Science and Technologies class - 1 | ICON INDIA</td>\n",
       "      <td>Usefull for All types of Exams ...</td>\n",
       "      <td>Science_and_Technology</td>\n",
       "    </tr>\n",
       "    <tr>\n",
       "      <th>19</th>\n",
       "      <td>x8A281Mmtqk</td>\n",
       "      <td>Science and Technology Demo Class ll Group 1 l...</td>\n",
       "      <td>TSPSC/APPSC ONLINE CLASSES IN TELUGU MEDIUM FO...</td>\n",
       "      <td>Science_and_Technology</td>\n",
       "    </tr>\n",
       "  </tbody>\n",
       "</table>\n",
       "</div>"
      ],
      "text/plain": [
       "       Video_id                                              title  \\\n",
       "0    TW3msUFUwI  Science & Technology current affairs of Last 6...   \n",
       "1   f3NWvUV8MD8                                  Welcome To Future   \n",
       "2   WK0NOUQ9iXE                       Welcome To Future Technology   \n",
       "3     0DqpgV3w4  #SCIENCE & TECHNOLOGY #CURRENT AFFAIRS 2019 (J...   \n",
       "4      BO5CchnV  Science and Technology | विज्ञानं एवं प्रोधोगि...   \n",
       "5   64addG82-KY  Science and Technology Current affairs 2019 ||...   \n",
       "6     6iEMOgBZl                                                      \n",
       "7   YMe53fffLig  L1: Introduction to Science & Technology I (UP...   \n",
       "8    D1qMoqS_TV  अंतरिक्ष प्रौद्‍योगिकी | Space Technology | Sp...   \n",
       "9   fPiqmhXDzOg  Space Technology Class 1 ll అంతరిక్షం ll Scien...   \n",
       "10  d6dxWNQj1GU                    Most AMAZING Recent Technology!   \n",
       "11  -B0dvYhxEKA  SCIENCE & TECHNOLOGY || HAREESH ACADEMY || GEN...   \n",
       "12  4HAkEyCdyCM                    Building Science and Technology   \n",
       "13  2O5lIPJoTag                                                      \n",
       "14  CA19bfobhc0  The World In 2050 | Future Of World | Innovati...   \n",
       "15  7kbOStEXecU                                                      \n",
       "16  Oqupjp0JiA4  Lecture 1, Science and tech Basics compilation...   \n",
       "17  l9o33uBi40U                     Amazing Science Toys/Gadgets 1   \n",
       "18   WfAETETHQ4    Science and Technologies class - 1 | ICON INDIA   \n",
       "19  x8A281Mmtqk  Science and Technology Demo Class ll Group 1 l...   \n",
       "\n",
       "                                          description                catagory  \n",
       "0   Download the Poket News App - http://bit.ly/2J...  Science_and_Technology  \n",
       "1   Theories of technology often attempt to predic...  Science_and_Technology  \n",
       "2   Hi friends Welcome to Question World\\nToday We...  Science_and_Technology  \n",
       "3   SCIENCE & TECHNOLOGY CURRENT AFFAIRS 2018 (JAN...  Science_and_Technology  \n",
       "4   In this session in brief discussion on Science...  Science_and_Technology  \n",
       "5   Master Current affairs 2019 pdf(₹30)updated- J...  Science_and_Technology  \n",
       "6   ISRO से जुड़े सभी महत्वपूर्ण प्रश्न || Science...  Science_and_Technology  \n",
       "7   Santosh Sharma and more top educators are teac...  Science_and_Technology  \n",
       "8   8AM- अंतरिक्ष प्रौद्‍योगिकी | Gen. Science |  ...  Science_and_Technology  \n",
       "9   TSPSC/APPSC ONLINE CLASSES IN TELUGU MEDIUM FO...  Science_and_Technology  \n",
       "10  Check out the most amazing recent technology! ...  Science_and_Technology  \n",
       "11  SCIENCE & TECHNOLOGY (GENERAL SCIENCE) FOR ALL...  Science_and_Technology  \n",
       "12  Want to know why we went with this type of fou...  Science_and_Technology  \n",
       "13  Top 3 New Technology Future Inventions Gadgets...  Science_and_Technology  \n",
       "14  The World In 2050 | Future Of World | Innovati...  Science_and_Technology  \n",
       "15  इस Video का PDF इस Link से जल्दी से Download क...  Science_and_Technology  \n",
       "16  Join the Political science and Mains Booster C...  Science_and_Technology  \n",
       "17  NEW VIDEO 😱➡️ https://youtu.be/GpY3WSB0jbs\\n\\n...  Science_and_Technology  \n",
       "18                 Usefull for All types of Exams ...  Science_and_Technology  \n",
       "19  TSPSC/APPSC ONLINE CLASSES IN TELUGU MEDIUM FO...  Science_and_Technology  "
      ]
     },
     "execution_count": 53,
     "metadata": {},
     "output_type": "execute_result"
    }
   ],
   "source": [
    "df_sandt"
   ]
  },
  {
   "cell_type": "markdown",
   "metadata": {},
   "source": [
    "## Below variable is for saving the History videos only"
   ]
  },
  {
   "cell_type": "code",
   "execution_count": 54,
   "metadata": {},
   "outputs": [],
   "source": [
    "history = \"https://www.youtube.com/results?search_query=history+of+india\""
   ]
  },
  {
   "cell_type": "code",
   "execution_count": 55,
   "metadata": {},
   "outputs": [],
   "source": [
    "driver = webdriver.Chrome(\"C:\\\\Users\\\\user\\\\Downloads\\\\chromedriver_win32\\\\chromedriver.exe\")\n",
    "driver.get(history)"
   ]
  },
  {
   "cell_type": "code",
   "execution_count": 56,
   "metadata": {},
   "outputs": [
    {
     "name": "stdout",
     "output_type": "stream",
     "text": [
      "20\n"
     ]
    }
   ],
   "source": [
    "user_data5 = driver.find_elements_by_xpath('//*[@id=\"video-title\"]')\n",
    "links5 = []\n",
    "for i in user_data5:\n",
    "    links5.append(i.get_attribute('href'))\n",
    "print(len(links5))"
   ]
  },
  {
   "cell_type": "code",
   "execution_count": 57,
   "metadata": {},
   "outputs": [],
   "source": [
    "df_history = pd.DataFrame(columns = ['Video_id', 'title', 'description', 'catagory'])"
   ]
  },
  {
   "cell_type": "code",
   "execution_count": 58,
   "metadata": {},
   "outputs": [],
   "source": [
    "wait = WebDriverWait(driver, 20)\n",
    "v_category = \"History\"\n",
    "for x in links5:\n",
    "    #Extract dates from for each user on a page\n",
    "    driver.get(x)\n",
    "    v_id = x.strip('https://www.youtube.com/watch?v=')\n",
    "    v_title = wait.until(EC.presence_of_element_located((By.CSS_SELECTOR,\"h1.title yt-formatted-string\"))).text\n",
    "    v_description = wait.until(EC.presence_of_element_located((By.CSS_SELECTOR,\"div#description yt-formatted-string\"))).text\n",
    "    df_history.loc[len(df_history)] = [v_id, v_title, v_description, v_category]"
   ]
  },
  {
   "cell_type": "code",
   "execution_count": 59,
   "metadata": {},
   "outputs": [
    {
     "data": {
      "text/html": [
       "<div>\n",
       "<style>\n",
       "    .dataframe thead tr:only-child th {\n",
       "        text-align: right;\n",
       "    }\n",
       "\n",
       "    .dataframe thead th {\n",
       "        text-align: left;\n",
       "    }\n",
       "\n",
       "    .dataframe tbody tr th {\n",
       "        vertical-align: top;\n",
       "    }\n",
       "</style>\n",
       "<table border=\"1\" class=\"dataframe\">\n",
       "  <thead>\n",
       "    <tr style=\"text-align: right;\">\n",
       "      <th></th>\n",
       "      <th>Video_id</th>\n",
       "      <th>title</th>\n",
       "      <th>description</th>\n",
       "      <th>catagory</th>\n",
       "    </tr>\n",
       "  </thead>\n",
       "  <tbody>\n",
       "    <tr>\n",
       "      <th>0</th>\n",
       "      <td>PSnxA5HREg</td>\n",
       "      <td></td>\n",
       "      <td>Ancient History of India in Hindi |indian hist...</td>\n",
       "      <td>History</td>\n",
       "    </tr>\n",
       "    <tr>\n",
       "      <th>1</th>\n",
       "      <td>LDECPptPMNg</td>\n",
       "      <td>Modern History: History of India</td>\n",
       "      <td>The video stops at Cripps mission, just before...</td>\n",
       "      <td>History</td>\n",
       "    </tr>\n",
       "    <tr>\n",
       "      <th>2</th>\n",
       "      <td>BGjVbnU-TpA</td>\n",
       "      <td></td>\n",
       "      <td>क्यूँ आयेथे मुघल भारत में , जानिये असलीयत इतिह...</td>\n",
       "      <td>History</td>\n",
       "    </tr>\n",
       "    <tr>\n",
       "      <th>3</th>\n",
       "      <td>QOKChdTd</td>\n",
       "      <td>Complete Indian History (सम्पूर्ण भारतीय इतिहा...</td>\n",
       "      <td>सम्पूर्ण इतिहास (प्राचीन मध्यकालीन एवं आधुनिक ...</td>\n",
       "      <td>History</td>\n",
       "    </tr>\n",
       "    <tr>\n",
       "      <th>4</th>\n",
       "      <td>xHnMYS8bcC8</td>\n",
       "      <td>भारत के कुछ गाँव आप विश्वास नहीं करेंगे || Mys...</td>\n",
       "      <td>आज के इस विडियो में आप जानेगे भारत के कुछ गाँव...</td>\n",
       "      <td>History</td>\n",
       "    </tr>\n",
       "    <tr>\n",
       "      <th>5</th>\n",
       "      <td>Ogq_qyLYihA</td>\n",
       "      <td>आजसेभी सुंदर था भारत , जब ब्रिटिश करते थे राज ...</td>\n",
       "      <td>आजसेभी सुंदर था भारत , जब ब्रिटिश करते थे राज ...</td>\n",
       "      <td>History</td>\n",
       "    </tr>\n",
       "    <tr>\n",
       "      <th>6</th>\n",
       "      <td>QN41DJLQmPk</td>\n",
       "      <td>The History of India: Every Year</td>\n",
       "      <td>This video will show the entire history of Ind...</td>\n",
       "      <td>History</td>\n",
       "    </tr>\n",
       "    <tr>\n",
       "      <th>7</th>\n",
       "      <td>dLV9iKKuXf</td>\n",
       "      <td>Top 7 Biggest Mysteries Of India.[HINDI]</td>\n",
       "      <td>#MH\\n#Mysteriesofindia\\n#Historyofindia\\n\\n\\nS...</td>\n",
       "      <td>History</td>\n",
       "    </tr>\n",
       "    <tr>\n",
       "      <th>8</th>\n",
       "      <td>Ihd3uh6jUq</td>\n",
       "      <td></td>\n",
       "      <td>https://mocomi.com/ presents:Kings and Dynasti...</td>\n",
       "      <td>History</td>\n",
       "    </tr>\n",
       "    <tr>\n",
       "      <th>9</th>\n",
       "      <td>jxWbZqG-HA</td>\n",
       "      <td>Formation of India (Pangea, Gondwanaland and L...</td>\n",
       "      <td>Thank you Friends for your Love and Support......</td>\n",
       "      <td>History</td>\n",
       "    </tr>\n",
       "    <tr>\n",
       "      <th>10</th>\n",
       "      <td>211k9cbfo1k</td>\n",
       "      <td>The Beginning of India's History (Hindi/Englis...</td>\n",
       "      <td>The Video tries to trace the beginning of 'We ...</td>\n",
       "      <td>History</td>\n",
       "    </tr>\n",
       "    <tr>\n",
       "      <th>11</th>\n",
       "      <td>NFczNHrbXB0</td>\n",
       "      <td></td>\n",
       "      <td>History of India documentary\\nFrom the indus v...</td>\n",
       "      <td>History</td>\n",
       "    </tr>\n",
       "    <tr>\n",
       "      <th>12</th>\n",
       "      <td>lF3nhNvU-M</td>\n",
       "      <td></td>\n",
       "      <td>In this session of Modern Indian History Anuj ...</td>\n",
       "      <td>History</td>\n",
       "    </tr>\n",
       "    <tr>\n",
       "      <th>13</th>\n",
       "      <td>RGyjvyXEKd</td>\n",
       "      <td></td>\n",
       "      <td>What if the history of India that we learn in ...</td>\n",
       "      <td>History</td>\n",
       "    </tr>\n",
       "    <tr>\n",
       "      <th>14</th>\n",
       "      <td>HgS9q1Mfus0</td>\n",
       "      <td></td>\n",
       "      <td>Be like SMART BANANA: https://goo.gl/JTfP6L\\n\\...</td>\n",
       "      <td>History</td>\n",
       "    </tr>\n",
       "    <tr>\n",
       "      <th>15</th>\n",
       "      <td>xWbLM-K7sM</td>\n",
       "      <td>Modern History (सम्पूर्ण आधुनिक भारत का इतिहास...</td>\n",
       "      <td>RPA STUDY Circle Unit OF AZAD IAS ACADEMY\\nhtt...</td>\n",
       "      <td>History</td>\n",
       "    </tr>\n",
       "    <tr>\n",
       "      <th>16</th>\n",
       "      <td>Ei_JGATir2Y</td>\n",
       "      <td>Archaeology : India The First Civilization Doc...</td>\n",
       "      <td>As Indian independence approached in the first...</td>\n",
       "      <td>History</td>\n",
       "    </tr>\n",
       "    <tr>\n",
       "      <th>17</th>\n",
       "      <td>MZdeHvoROL4</td>\n",
       "      <td>History of Delhi in 12 Minutes | Delhi Sultana...</td>\n",
       "      <td>Hi guys presenting you the series of Indian Hi...</td>\n",
       "      <td>History</td>\n",
       "    </tr>\n",
       "    <tr>\n",
       "      <th>18</th>\n",
       "      <td>13comnBqWUU</td>\n",
       "      <td></td>\n",
       "      <td>Indian History Quiz : Governor Generals | Vice...</td>\n",
       "      <td>History</td>\n",
       "    </tr>\n",
       "    <tr>\n",
       "      <th>19</th>\n",
       "      <td>3NeDMtozQ8Q</td>\n",
       "      <td>'वास्को डी गामा' के भारत आने का इतिहास | Vasco...</td>\n",
       "      <td>वास्को डी गामा के भारत आने का इतिहास | Vasco D...</td>\n",
       "      <td>History</td>\n",
       "    </tr>\n",
       "  </tbody>\n",
       "</table>\n",
       "</div>"
      ],
      "text/plain": [
       "       Video_id                                              title  \\\n",
       "0    PSnxA5HREg                                                      \n",
       "1   LDECPptPMNg                   Modern History: History of India   \n",
       "2   BGjVbnU-TpA                                                      \n",
       "3      QOKChdTd  Complete Indian History (सम्पूर्ण भारतीय इतिहा...   \n",
       "4   xHnMYS8bcC8  भारत के कुछ गाँव आप विश्वास नहीं करेंगे || Mys...   \n",
       "5   Ogq_qyLYihA  आजसेभी सुंदर था भारत , जब ब्रिटिश करते थे राज ...   \n",
       "6   QN41DJLQmPk                   The History of India: Every Year   \n",
       "7    dLV9iKKuXf           Top 7 Biggest Mysteries Of India.[HINDI]   \n",
       "8    Ihd3uh6jUq                                                      \n",
       "9    jxWbZqG-HA  Formation of India (Pangea, Gondwanaland and L...   \n",
       "10  211k9cbfo1k  The Beginning of India's History (Hindi/Englis...   \n",
       "11  NFczNHrbXB0                                                      \n",
       "12   lF3nhNvU-M                                                      \n",
       "13   RGyjvyXEKd                                                      \n",
       "14  HgS9q1Mfus0                                                      \n",
       "15   xWbLM-K7sM  Modern History (सम्पूर्ण आधुनिक भारत का इतिहास...   \n",
       "16  Ei_JGATir2Y  Archaeology : India The First Civilization Doc...   \n",
       "17  MZdeHvoROL4  History of Delhi in 12 Minutes | Delhi Sultana...   \n",
       "18  13comnBqWUU                                                      \n",
       "19  3NeDMtozQ8Q  'वास्को डी गामा' के भारत आने का इतिहास | Vasco...   \n",
       "\n",
       "                                          description catagory  \n",
       "0   Ancient History of India in Hindi |indian hist...  History  \n",
       "1   The video stops at Cripps mission, just before...  History  \n",
       "2   क्यूँ आयेथे मुघल भारत में , जानिये असलीयत इतिह...  History  \n",
       "3   सम्पूर्ण इतिहास (प्राचीन मध्यकालीन एवं आधुनिक ...  History  \n",
       "4   आज के इस विडियो में आप जानेगे भारत के कुछ गाँव...  History  \n",
       "5   आजसेभी सुंदर था भारत , जब ब्रिटिश करते थे राज ...  History  \n",
       "6   This video will show the entire history of Ind...  History  \n",
       "7   #MH\\n#Mysteriesofindia\\n#Historyofindia\\n\\n\\nS...  History  \n",
       "8   https://mocomi.com/ presents:Kings and Dynasti...  History  \n",
       "9   Thank you Friends for your Love and Support......  History  \n",
       "10  The Video tries to trace the beginning of 'We ...  History  \n",
       "11  History of India documentary\\nFrom the indus v...  History  \n",
       "12  In this session of Modern Indian History Anuj ...  History  \n",
       "13  What if the history of India that we learn in ...  History  \n",
       "14  Be like SMART BANANA: https://goo.gl/JTfP6L\\n\\...  History  \n",
       "15  RPA STUDY Circle Unit OF AZAD IAS ACADEMY\\nhtt...  History  \n",
       "16  As Indian independence approached in the first...  History  \n",
       "17  Hi guys presenting you the series of Indian Hi...  History  \n",
       "18  Indian History Quiz : Governor Generals | Vice...  History  \n",
       "19  वास्को डी गामा के भारत आने का इतिहास | Vasco D...  History  "
      ]
     },
     "execution_count": 59,
     "metadata": {},
     "output_type": "execute_result"
    }
   ],
   "source": [
    "df_history"
   ]
  },
  {
   "cell_type": "markdown",
   "metadata": {},
   "source": [
    "## Below variable is for saving the Manufacturing videos only"
   ]
  },
  {
   "cell_type": "code",
   "execution_count": 60,
   "metadata": {},
   "outputs": [],
   "source": [
    "manufacturing = \"https://www.youtube.com/results?search_query=manufacturing+in+india\""
   ]
  },
  {
   "cell_type": "code",
   "execution_count": 61,
   "metadata": {},
   "outputs": [],
   "source": [
    "driver = webdriver.Chrome(\"C:\\\\Users\\\\user\\\\Downloads\\\\chromedriver_win32\\\\chromedriver.exe\")\n",
    "driver.get(manufacturing)"
   ]
  },
  {
   "cell_type": "code",
   "execution_count": 62,
   "metadata": {},
   "outputs": [
    {
     "name": "stdout",
     "output_type": "stream",
     "text": [
      "20\n"
     ]
    }
   ],
   "source": [
    "user_data6 = driver.find_elements_by_xpath('//*[@id=\"video-title\"]')\n",
    "links6 = []\n",
    "for i in user_data6:\n",
    "    links6.append(i.get_attribute('href'))\n",
    "print(len(links6))"
   ]
  },
  {
   "cell_type": "code",
   "execution_count": 63,
   "metadata": {},
   "outputs": [],
   "source": [
    "df_manufacturing = pd.DataFrame(columns = ['Video_id', 'title', 'description', 'catagory'])"
   ]
  },
  {
   "cell_type": "code",
   "execution_count": 64,
   "metadata": {},
   "outputs": [],
   "source": [
    "wait = WebDriverWait(driver, 20)\n",
    "v_category = \"Manufacturing\"\n",
    "for x in links6:\n",
    "    #Extract dates from for each user on a page\n",
    "    driver.get(x)\n",
    "    v_id = x.strip('https://www.youtube.com/watch?v=')\n",
    "    v_title = wait.until(EC.presence_of_element_located((By.CSS_SELECTOR,\"h1.title yt-formatted-string\"))).text\n",
    "    v_description = wait.until(EC.presence_of_element_located((By.CSS_SELECTOR,\"div#description yt-formatted-string\"))).text\n",
    "    df_manufacturing.loc[len(df_manufacturing)] = [v_id, v_title, v_description, v_category]"
   ]
  },
  {
   "cell_type": "code",
   "execution_count": 65,
   "metadata": {},
   "outputs": [
    {
     "data": {
      "text/html": [
       "<div>\n",
       "<style>\n",
       "    .dataframe thead tr:only-child th {\n",
       "        text-align: right;\n",
       "    }\n",
       "\n",
       "    .dataframe thead th {\n",
       "        text-align: left;\n",
       "    }\n",
       "\n",
       "    .dataframe tbody tr th {\n",
       "        vertical-align: top;\n",
       "    }\n",
       "</style>\n",
       "<table border=\"1\" class=\"dataframe\">\n",
       "  <thead>\n",
       "    <tr style=\"text-align: right;\">\n",
       "      <th></th>\n",
       "      <th>Video_id</th>\n",
       "      <th>title</th>\n",
       "      <th>description</th>\n",
       "      <th>catagory</th>\n",
       "    </tr>\n",
       "  </thead>\n",
       "  <tbody>\n",
       "    <tr>\n",
       "      <th>0</th>\n",
       "      <td>1oMJRjY_uoM</td>\n",
       "      <td>The iPhone Will Be Made In India... But Why?</td>\n",
       "      <td>Looks like Apple will start assembling its pre...</td>\n",
       "      <td>Manufacturing</td>\n",
       "    </tr>\n",
       "    <tr>\n",
       "      <th>1</th>\n",
       "      <td>Qlk3As9wKN8</td>\n",
       "      <td>The Audi site in Aurangabad (India) -- Production</td>\n",
       "      <td>Since September 2007 the company has been prod...</td>\n",
       "      <td>Manufacturing</td>\n",
       "    </tr>\n",
       "    <tr>\n",
       "      <th>2</th>\n",
       "      <td>YpEYLuXF08Y</td>\n",
       "      <td>Smartphone - Made in India - The Sad Story...</td>\n",
       "      <td>Namaskaar Dosto, is video mein maine aapse Sma...</td>\n",
       "      <td>Manufacturing</td>\n",
       "    </tr>\n",
       "    <tr>\n",
       "      <th>3</th>\n",
       "      <td>YEgBe0a3A0</td>\n",
       "      <td>John Deere manufacturing in india</td>\n",
       "      <td></td>\n",
       "      <td>Manufacturing</td>\n",
       "    </tr>\n",
       "    <tr>\n",
       "      <th>4</th>\n",
       "      <td>qrUUAZJmN</td>\n",
       "      <td>Top 10 manufacturing business | manufacturing ...</td>\n",
       "      <td>1. Shade net making business\\n :- https://www....</td>\n",
       "      <td>Manufacturing</td>\n",
       "    </tr>\n",
       "    <tr>\n",
       "      <th>5</th>\n",
       "      <td>ADrE-34TCYU</td>\n",
       "      <td>Mi LED Smart TV manufacturing plant Tour in India</td>\n",
       "      <td>Mi LED Smart TV manufacturing plant Tour in In...</td>\n",
       "      <td>Manufacturing</td>\n",
       "    </tr>\n",
       "    <tr>\n",
       "      <th>6</th>\n",
       "      <td>Jxw_ZGen</td>\n",
       "      <td></td>\n",
       "      <td>Bigsmallideas@gmail.com    ( Please email for ...</td>\n",
       "      <td>Manufacturing</td>\n",
       "    </tr>\n",
       "    <tr>\n",
       "      <th>7</th>\n",
       "      <td>_xaLdFYk6BY</td>\n",
       "      <td>How to make shirt in India | The Great Indian ...</td>\n",
       "      <td>How to make shirt in indian Factory.\\nThe grea...</td>\n",
       "      <td>Manufacturing</td>\n",
       "    </tr>\n",
       "    <tr>\n",
       "      <th>8</th>\n",
       "      <td>4J9ndbCxtN</td>\n",
       "      <td>LUXURY Bus manufacturing in India, smart industry</td>\n",
       "      <td>this video contains how buses are made in India</td>\n",
       "      <td>Manufacturing</td>\n",
       "    </tr>\n",
       "    <tr>\n",
       "      <th>9</th>\n",
       "      <td>ilpHXAhUVP</td>\n",
       "      <td>Manufacturing: Making Progress in India</td>\n",
       "      <td>How can India’s production and industrial deve...</td>\n",
       "      <td>Manufacturing</td>\n",
       "    </tr>\n",
       "    <tr>\n",
       "      <th>10</th>\n",
       "      <td>rY78dNXBpQ8</td>\n",
       "      <td>INDIA BIGGEST T-SHIRT FACTORY ! CHEAPEST T-SHI...</td>\n",
       "      <td>INDIA BIGGEST T-SHIRT FACTORY ! CHEAPEST T-SHI...</td>\n",
       "      <td>Manufacturing</td>\n",
       "    </tr>\n",
       "    <tr>\n",
       "      <th>11</th>\n",
       "      <td>1ZL9y_cNj</td>\n",
       "      <td>How Realme Smartphones Are Made - Realme Facto...</td>\n",
       "      <td>Hello Dosto is video me maine aap logo ko Real...</td>\n",
       "      <td>Manufacturing</td>\n",
       "    </tr>\n",
       "    <tr>\n",
       "      <th>12</th>\n",
       "      <td>UXvZBAy7Ok</td>\n",
       "      <td>LPG Cylinder Manufacturing India || LPG Cylind...</td>\n",
       "      <td>#cylinder #lpgcylinder #propane\\nLPG Cylinder ...</td>\n",
       "      <td>Manufacturing</td>\n",
       "    </tr>\n",
       "    <tr>\n",
       "      <th>13</th>\n",
       "      <td>SRva3Ze-kE0</td>\n",
       "      <td></td>\n",
       "      <td>As a preferred partner for leading aerospace a...</td>\n",
       "      <td>Manufacturing</td>\n",
       "    </tr>\n",
       "    <tr>\n",
       "      <th>14</th>\n",
       "      <td>VNjasaUkCB</td>\n",
       "      <td>Tiles Manufacturing Process | How to Start Til...</td>\n",
       "      <td>Like, Share, Subscribe, Support!\\n\\nTiles busi...</td>\n",
       "      <td>Manufacturing</td>\n",
       "    </tr>\n",
       "    <tr>\n",
       "      <th>15</th>\n",
       "      <td>6jDKtHsACak</td>\n",
       "      <td></td>\n",
       "      <td>As paper cups are a product of daily use and h...</td>\n",
       "      <td>Manufacturing</td>\n",
       "    </tr>\n",
       "    <tr>\n",
       "      <th>16</th>\n",
       "      <td>5eQxw0-0jaM</td>\n",
       "      <td>earn 150,000 per month from T shirt Manufactur...</td>\n",
       "      <td>in this video you will learn about t-shirt man...</td>\n",
       "      <td>Manufacturing</td>\n",
       "    </tr>\n",
       "    <tr>\n",
       "      <th>17</th>\n",
       "      <td>E0ACc3MvJ_k</td>\n",
       "      <td></td>\n",
       "      <td>INDIA SUPERPOWER NATION 🇮🇳🇮🇳🇮🇳\\n\\n\\n India wil...</td>\n",
       "      <td>Manufacturing</td>\n",
       "    </tr>\n",
       "    <tr>\n",
       "      <th>18</th>\n",
       "      <td>ZxYVZz8e2U</td>\n",
       "      <td></td>\n",
       "      <td></td>\n",
       "      <td>Manufacturing</td>\n",
       "    </tr>\n",
       "    <tr>\n",
       "      <th>19</th>\n",
       "      <td>jn4dgKuElsM</td>\n",
       "      <td></td>\n",
       "      <td>#MakeInIndia</td>\n",
       "      <td>Manufacturing</td>\n",
       "    </tr>\n",
       "  </tbody>\n",
       "</table>\n",
       "</div>"
      ],
      "text/plain": [
       "       Video_id                                              title  \\\n",
       "0   1oMJRjY_uoM       The iPhone Will Be Made In India... But Why?   \n",
       "1   Qlk3As9wKN8  The Audi site in Aurangabad (India) -- Production   \n",
       "2   YpEYLuXF08Y      Smartphone - Made in India - The Sad Story...   \n",
       "3    YEgBe0a3A0                  John Deere manufacturing in india   \n",
       "4     qrUUAZJmN  Top 10 manufacturing business | manufacturing ...   \n",
       "5   ADrE-34TCYU  Mi LED Smart TV manufacturing plant Tour in India   \n",
       "6      Jxw_ZGen                                                      \n",
       "7   _xaLdFYk6BY  How to make shirt in India | The Great Indian ...   \n",
       "8    4J9ndbCxtN  LUXURY Bus manufacturing in India, smart industry   \n",
       "9    ilpHXAhUVP            Manufacturing: Making Progress in India   \n",
       "10  rY78dNXBpQ8  INDIA BIGGEST T-SHIRT FACTORY ! CHEAPEST T-SHI...   \n",
       "11    1ZL9y_cNj  How Realme Smartphones Are Made - Realme Facto...   \n",
       "12   UXvZBAy7Ok  LPG Cylinder Manufacturing India || LPG Cylind...   \n",
       "13  SRva3Ze-kE0                                                      \n",
       "14   VNjasaUkCB  Tiles Manufacturing Process | How to Start Til...   \n",
       "15  6jDKtHsACak                                                      \n",
       "16  5eQxw0-0jaM  earn 150,000 per month from T shirt Manufactur...   \n",
       "17  E0ACc3MvJ_k                                                      \n",
       "18   ZxYVZz8e2U                                                      \n",
       "19  jn4dgKuElsM                                                      \n",
       "\n",
       "                                          description       catagory  \n",
       "0   Looks like Apple will start assembling its pre...  Manufacturing  \n",
       "1   Since September 2007 the company has been prod...  Manufacturing  \n",
       "2   Namaskaar Dosto, is video mein maine aapse Sma...  Manufacturing  \n",
       "3                                                      Manufacturing  \n",
       "4   1. Shade net making business\\n :- https://www....  Manufacturing  \n",
       "5   Mi LED Smart TV manufacturing plant Tour in In...  Manufacturing  \n",
       "6   Bigsmallideas@gmail.com    ( Please email for ...  Manufacturing  \n",
       "7   How to make shirt in indian Factory.\\nThe grea...  Manufacturing  \n",
       "8     this video contains how buses are made in India  Manufacturing  \n",
       "9   How can India’s production and industrial deve...  Manufacturing  \n",
       "10  INDIA BIGGEST T-SHIRT FACTORY ! CHEAPEST T-SHI...  Manufacturing  \n",
       "11  Hello Dosto is video me maine aap logo ko Real...  Manufacturing  \n",
       "12  #cylinder #lpgcylinder #propane\\nLPG Cylinder ...  Manufacturing  \n",
       "13  As a preferred partner for leading aerospace a...  Manufacturing  \n",
       "14  Like, Share, Subscribe, Support!\\n\\nTiles busi...  Manufacturing  \n",
       "15  As paper cups are a product of daily use and h...  Manufacturing  \n",
       "16  in this video you will learn about t-shirt man...  Manufacturing  \n",
       "17  INDIA SUPERPOWER NATION 🇮🇳🇮🇳🇮🇳\\n\\n\\n India wil...  Manufacturing  \n",
       "18                                                     Manufacturing  \n",
       "19                                       #MakeInIndia  Manufacturing  "
      ]
     },
     "execution_count": 65,
     "metadata": {},
     "output_type": "execute_result"
    }
   ],
   "source": [
    "df_manufacturing"
   ]
  },
  {
   "cell_type": "markdown",
   "metadata": {},
   "source": [
    "## Now combine all the data frames and make one data set"
   ]
  },
  {
   "cell_type": "code",
   "execution_count": 66,
   "metadata": {},
   "outputs": [],
   "source": [
    "frames = [df_artndance, df_travel, df_food, df_sandt, df_history, df_manufacturing]"
   ]
  },
  {
   "cell_type": "code",
   "execution_count": 67,
   "metadata": {},
   "outputs": [],
   "source": [
    "df_copy = pd.concat(frames)"
   ]
  },
  {
   "cell_type": "code",
   "execution_count": 68,
   "metadata": {},
   "outputs": [
    {
     "data": {
      "text/html": [
       "<div>\n",
       "<style>\n",
       "    .dataframe thead tr:only-child th {\n",
       "        text-align: right;\n",
       "    }\n",
       "\n",
       "    .dataframe thead th {\n",
       "        text-align: left;\n",
       "    }\n",
       "\n",
       "    .dataframe tbody tr th {\n",
       "        vertical-align: top;\n",
       "    }\n",
       "</style>\n",
       "<table border=\"1\" class=\"dataframe\">\n",
       "  <thead>\n",
       "    <tr style=\"text-align: right;\">\n",
       "      <th></th>\n",
       "      <th>Video_id</th>\n",
       "      <th>title</th>\n",
       "      <th>description</th>\n",
       "      <th>catagory</th>\n",
       "    </tr>\n",
       "  </thead>\n",
       "  <tbody>\n",
       "    <tr>\n",
       "      <th>0</th>\n",
       "      <td>Yo5nOeHz</td>\n",
       "      <td>Gk Tricks in Hindi |भारत के लोक नृत्य</td>\n",
       "      <td>general awareness in Hindi | gk short tricks |...</td>\n",
       "      <td>Art &amp; Dance</td>\n",
       "    </tr>\n",
       "    <tr>\n",
       "      <th>1</th>\n",
       "      <td>Usyc--VfHU</td>\n",
       "      <td></td>\n",
       "      <td>And we are back with Dances. You literally wil...</td>\n",
       "      <td>Art &amp; Dance</td>\n",
       "    </tr>\n",
       "    <tr>\n",
       "      <th>2</th>\n",
       "      <td>YtFsn-YaO-A</td>\n",
       "      <td></td>\n",
       "      <td>Support for CAF Classes 👉 - http://bit.ly/2KGX...</td>\n",
       "      <td>Art &amp; Dance</td>\n",
       "    </tr>\n",
       "    <tr>\n",
       "      <th>3</th>\n",
       "      <td>KfD5ztfTUig</td>\n",
       "      <td></td>\n",
       "      <td>Performing Arts - Classical and Folk Dances of...</td>\n",
       "      <td>Art &amp; Dance</td>\n",
       "    </tr>\n",
       "    <tr>\n",
       "      <th>4</th>\n",
       "      <td>K4yWFUKX0</td>\n",
       "      <td></td>\n",
       "      <td>Static GK: Regional Dances of India, Classical...</td>\n",
       "      <td>Art &amp; Dance</td>\n",
       "    </tr>\n",
       "    <tr>\n",
       "      <th>5</th>\n",
       "      <td>8ScZDglWOMY</td>\n",
       "      <td></td>\n",
       "      <td>Follow Arti Chhawari on Unacademy here: https:...</td>\n",
       "      <td>Art &amp; Dance</td>\n",
       "    </tr>\n",
       "    <tr>\n",
       "      <th>6</th>\n",
       "      <td>-b1ZujcIyV0</td>\n",
       "      <td>Best Trick to Remember Dance Form of Indian St...</td>\n",
       "      <td>Watch this video to learn the best trick to re...</td>\n",
       "      <td>Art &amp; Dance</td>\n",
       "    </tr>\n",
       "    <tr>\n",
       "      <th>7</th>\n",
       "      <td>8_vrmvpRMQ</td>\n",
       "      <td>Art and Culture of India for RRB NTPC | Indian...</td>\n",
       "      <td>General Awareness for RRB NTPC 2019 | Art and ...</td>\n",
       "      <td>Art &amp; Dance</td>\n",
       "    </tr>\n",
       "    <tr>\n",
       "      <th>8</th>\n",
       "      <td>_4WmgIyg6rY</td>\n",
       "      <td>Eye Dancing and India’s Ancient Art of Kathakali</td>\n",
       "      <td>Kathakali is a traditional Indian dance native...</td>\n",
       "      <td>Art &amp; Dance</td>\n",
       "    </tr>\n",
       "    <tr>\n",
       "      <th>9</th>\n",
       "      <td>LgtFlXKC8</td>\n",
       "      <td>Folk Dances of India - Static General Knowledge</td>\n",
       "      <td>Download the Poket News App - http://bit.ly/2J...</td>\n",
       "      <td>Art &amp; Dance</td>\n",
       "    </tr>\n",
       "    <tr>\n",
       "      <th>10</th>\n",
       "      <td>LY6Zqimdj38</td>\n",
       "      <td>Top 5 Dance Auditions On India's Got Talent | ...</td>\n",
       "      <td>The best dance auditions from Got Talent India...</td>\n",
       "      <td>Art &amp; Dance</td>\n",
       "    </tr>\n",
       "    <tr>\n",
       "      <th>11</th>\n",
       "      <td>zsRjGfRcya8</td>\n",
       "      <td></td>\n",
       "      <td>To watch all lessons click here:- https://goo....</td>\n",
       "      <td>Art &amp; Dance</td>\n",
       "    </tr>\n",
       "    <tr>\n",
       "      <th>12</th>\n",
       "      <td>JHBpBTQhW1</td>\n",
       "      <td></td>\n",
       "      <td>Gk Hindi: शास्त्रीय नृत्य \\nनोट :- यक्षगान शास...</td>\n",
       "      <td>Art &amp; Dance</td>\n",
       "    </tr>\n",
       "    <tr>\n",
       "      <th>13</th>\n",
       "      <td>jY84doDsK6U</td>\n",
       "      <td></td>\n",
       "      <td>Gk Hindi | indian geography | Best gk trick | ...</td>\n",
       "      <td>Art &amp; Dance</td>\n",
       "    </tr>\n",
       "    <tr>\n",
       "      <th>14</th>\n",
       "      <td>Rvf0C1pWGJ8</td>\n",
       "      <td></td>\n",
       "      <td>Important Sports Trophies and Cups  | List of ...</td>\n",
       "      <td>Art &amp; Dance</td>\n",
       "    </tr>\n",
       "    <tr>\n",
       "      <th>15</th>\n",
       "      <td>InN8xgtg0A</td>\n",
       "      <td>Dance India Dance | West Ke Singhams - Mansi |...</td>\n",
       "      <td>Dance India Dance |  West Ke Singhams - Mansi ...</td>\n",
       "      <td>Art &amp; Dance</td>\n",
       "    </tr>\n",
       "    <tr>\n",
       "      <th>16</th>\n",
       "      <td>Yo5nOeHz</td>\n",
       "      <td>Gk Tricks in Hindi |भारत के लोक नृत्य</td>\n",
       "      <td>general awareness in Hindi | gk short tricks |...</td>\n",
       "      <td>Art &amp; Dance</td>\n",
       "    </tr>\n",
       "    <tr>\n",
       "      <th>17</th>\n",
       "      <td>Usyc--VfHU</td>\n",
       "      <td>Art and Culture of India for CSE: Part 2.1 Dan...</td>\n",
       "      <td>And we are back with Dances. You literally wil...</td>\n",
       "      <td>Art &amp; Dance</td>\n",
       "    </tr>\n",
       "    <tr>\n",
       "      <th>18</th>\n",
       "      <td>YtFsn-YaO-A</td>\n",
       "      <td>Dances in India | Art and Culture (Static GK) ...</td>\n",
       "      <td>Support for CAF Classes 👉 - http://bit.ly/2KGX...</td>\n",
       "      <td>Art &amp; Dance</td>\n",
       "    </tr>\n",
       "    <tr>\n",
       "      <th>19</th>\n",
       "      <td>KfD5ztfTUig</td>\n",
       "      <td>Classical and Folk Dances of India | Indian Ar...</td>\n",
       "      <td>Performing Arts - Classical and Folk Dances of...</td>\n",
       "      <td>Art &amp; Dance</td>\n",
       "    </tr>\n",
       "    <tr>\n",
       "      <th>20</th>\n",
       "      <td>K4yWFUKX0</td>\n",
       "      <td>Regional Dances of India in Hindi | Static GK</td>\n",
       "      <td>Static GK: Regional Dances of India, Classical...</td>\n",
       "      <td>Art &amp; Dance</td>\n",
       "    </tr>\n",
       "    <tr>\n",
       "      <th>21</th>\n",
       "      <td>-b1ZujcIyV0</td>\n",
       "      <td>Best Trick to Remember Dance Form of Indian St...</td>\n",
       "      <td>Watch this video to learn the best trick to re...</td>\n",
       "      <td>Art &amp; Dance</td>\n",
       "    </tr>\n",
       "    <tr>\n",
       "      <th>22</th>\n",
       "      <td>8ScZDglWOMY</td>\n",
       "      <td>Special Class - Important Dance Forms of India...</td>\n",
       "      <td>Follow Arti Chhawari on Unacademy here: https:...</td>\n",
       "      <td>Art &amp; Dance</td>\n",
       "    </tr>\n",
       "    <tr>\n",
       "      <th>23</th>\n",
       "      <td>8_vrmvpRMQ</td>\n",
       "      <td>Art and Culture of India for RRB NTPC | Indian...</td>\n",
       "      <td>General Awareness for RRB NTPC 2019 | Art and ...</td>\n",
       "      <td>Art &amp; Dance</td>\n",
       "    </tr>\n",
       "    <tr>\n",
       "      <th>24</th>\n",
       "      <td>_4WmgIyg6rY</td>\n",
       "      <td></td>\n",
       "      <td>Kathakali is a traditional Indian dance native...</td>\n",
       "      <td>Art &amp; Dance</td>\n",
       "    </tr>\n",
       "    <tr>\n",
       "      <th>25</th>\n",
       "      <td>LgtFlXKC8</td>\n",
       "      <td>Folk Dances of India - Static General Knowledge</td>\n",
       "      <td>Download the Poket News App - http://bit.ly/2J...</td>\n",
       "      <td>Art &amp; Dance</td>\n",
       "    </tr>\n",
       "    <tr>\n",
       "      <th>26</th>\n",
       "      <td>zsRjGfRcya8</td>\n",
       "      <td>[Hindi] Crash Course on the Indian Art and Cul...</td>\n",
       "      <td>To watch all lessons click here:- https://goo....</td>\n",
       "      <td>Art &amp; Dance</td>\n",
       "    </tr>\n",
       "    <tr>\n",
       "      <th>27</th>\n",
       "      <td>xDDJxom05H</td>\n",
       "      <td>Top 10 Indian Dancers | Vote for your Best?</td>\n",
       "      <td>We have some extremely talented Dancers in Ind...</td>\n",
       "      <td>Art &amp; Dance</td>\n",
       "    </tr>\n",
       "    <tr>\n",
       "      <th>28</th>\n",
       "      <td>JHBpBTQhW1</td>\n",
       "      <td>Gk Tricks In Hindi | शास्त्रीय नृत्य | SSC ,MP...</td>\n",
       "      <td>Gk Hindi: शास्त्रीय नृत्य \\nनोट :- यक्षगान शास...</td>\n",
       "      <td>Art &amp; Dance</td>\n",
       "    </tr>\n",
       "    <tr>\n",
       "      <th>29</th>\n",
       "      <td>jY84doDsK6U</td>\n",
       "      <td>Gk Tricks | भारत के प्रमुख नदी बांध (Dam) | SS...</td>\n",
       "      <td>Gk Hindi | indian geography | Best gk trick | ...</td>\n",
       "      <td>Art &amp; Dance</td>\n",
       "    </tr>\n",
       "    <tr>\n",
       "      <th>...</th>\n",
       "      <td>...</td>\n",
       "      <td>...</td>\n",
       "      <td>...</td>\n",
       "      <td>...</td>\n",
       "    </tr>\n",
       "    <tr>\n",
       "      <th>10</th>\n",
       "      <td>211k9cbfo1k</td>\n",
       "      <td>The Beginning of India's History (Hindi/Englis...</td>\n",
       "      <td>The Video tries to trace the beginning of 'We ...</td>\n",
       "      <td>History</td>\n",
       "    </tr>\n",
       "    <tr>\n",
       "      <th>11</th>\n",
       "      <td>NFczNHrbXB0</td>\n",
       "      <td></td>\n",
       "      <td>History of India documentary\\nFrom the indus v...</td>\n",
       "      <td>History</td>\n",
       "    </tr>\n",
       "    <tr>\n",
       "      <th>12</th>\n",
       "      <td>lF3nhNvU-M</td>\n",
       "      <td></td>\n",
       "      <td>In this session of Modern Indian History Anuj ...</td>\n",
       "      <td>History</td>\n",
       "    </tr>\n",
       "    <tr>\n",
       "      <th>13</th>\n",
       "      <td>RGyjvyXEKd</td>\n",
       "      <td></td>\n",
       "      <td>What if the history of India that we learn in ...</td>\n",
       "      <td>History</td>\n",
       "    </tr>\n",
       "    <tr>\n",
       "      <th>14</th>\n",
       "      <td>HgS9q1Mfus0</td>\n",
       "      <td></td>\n",
       "      <td>Be like SMART BANANA: https://goo.gl/JTfP6L\\n\\...</td>\n",
       "      <td>History</td>\n",
       "    </tr>\n",
       "    <tr>\n",
       "      <th>15</th>\n",
       "      <td>xWbLM-K7sM</td>\n",
       "      <td>Modern History (सम्पूर्ण आधुनिक भारत का इतिहास...</td>\n",
       "      <td>RPA STUDY Circle Unit OF AZAD IAS ACADEMY\\nhtt...</td>\n",
       "      <td>History</td>\n",
       "    </tr>\n",
       "    <tr>\n",
       "      <th>16</th>\n",
       "      <td>Ei_JGATir2Y</td>\n",
       "      <td>Archaeology : India The First Civilization Doc...</td>\n",
       "      <td>As Indian independence approached in the first...</td>\n",
       "      <td>History</td>\n",
       "    </tr>\n",
       "    <tr>\n",
       "      <th>17</th>\n",
       "      <td>MZdeHvoROL4</td>\n",
       "      <td>History of Delhi in 12 Minutes | Delhi Sultana...</td>\n",
       "      <td>Hi guys presenting you the series of Indian Hi...</td>\n",
       "      <td>History</td>\n",
       "    </tr>\n",
       "    <tr>\n",
       "      <th>18</th>\n",
       "      <td>13comnBqWUU</td>\n",
       "      <td></td>\n",
       "      <td>Indian History Quiz : Governor Generals | Vice...</td>\n",
       "      <td>History</td>\n",
       "    </tr>\n",
       "    <tr>\n",
       "      <th>19</th>\n",
       "      <td>3NeDMtozQ8Q</td>\n",
       "      <td>'वास्को डी गामा' के भारत आने का इतिहास | Vasco...</td>\n",
       "      <td>वास्को डी गामा के भारत आने का इतिहास | Vasco D...</td>\n",
       "      <td>History</td>\n",
       "    </tr>\n",
       "    <tr>\n",
       "      <th>0</th>\n",
       "      <td>1oMJRjY_uoM</td>\n",
       "      <td>The iPhone Will Be Made In India... But Why?</td>\n",
       "      <td>Looks like Apple will start assembling its pre...</td>\n",
       "      <td>Manufacturing</td>\n",
       "    </tr>\n",
       "    <tr>\n",
       "      <th>1</th>\n",
       "      <td>Qlk3As9wKN8</td>\n",
       "      <td>The Audi site in Aurangabad (India) -- Production</td>\n",
       "      <td>Since September 2007 the company has been prod...</td>\n",
       "      <td>Manufacturing</td>\n",
       "    </tr>\n",
       "    <tr>\n",
       "      <th>2</th>\n",
       "      <td>YpEYLuXF08Y</td>\n",
       "      <td>Smartphone - Made in India - The Sad Story...</td>\n",
       "      <td>Namaskaar Dosto, is video mein maine aapse Sma...</td>\n",
       "      <td>Manufacturing</td>\n",
       "    </tr>\n",
       "    <tr>\n",
       "      <th>3</th>\n",
       "      <td>YEgBe0a3A0</td>\n",
       "      <td>John Deere manufacturing in india</td>\n",
       "      <td></td>\n",
       "      <td>Manufacturing</td>\n",
       "    </tr>\n",
       "    <tr>\n",
       "      <th>4</th>\n",
       "      <td>qrUUAZJmN</td>\n",
       "      <td>Top 10 manufacturing business | manufacturing ...</td>\n",
       "      <td>1. Shade net making business\\n :- https://www....</td>\n",
       "      <td>Manufacturing</td>\n",
       "    </tr>\n",
       "    <tr>\n",
       "      <th>5</th>\n",
       "      <td>ADrE-34TCYU</td>\n",
       "      <td>Mi LED Smart TV manufacturing plant Tour in India</td>\n",
       "      <td>Mi LED Smart TV manufacturing plant Tour in In...</td>\n",
       "      <td>Manufacturing</td>\n",
       "    </tr>\n",
       "    <tr>\n",
       "      <th>6</th>\n",
       "      <td>Jxw_ZGen</td>\n",
       "      <td></td>\n",
       "      <td>Bigsmallideas@gmail.com    ( Please email for ...</td>\n",
       "      <td>Manufacturing</td>\n",
       "    </tr>\n",
       "    <tr>\n",
       "      <th>7</th>\n",
       "      <td>_xaLdFYk6BY</td>\n",
       "      <td>How to make shirt in India | The Great Indian ...</td>\n",
       "      <td>How to make shirt in indian Factory.\\nThe grea...</td>\n",
       "      <td>Manufacturing</td>\n",
       "    </tr>\n",
       "    <tr>\n",
       "      <th>8</th>\n",
       "      <td>4J9ndbCxtN</td>\n",
       "      <td>LUXURY Bus manufacturing in India, smart industry</td>\n",
       "      <td>this video contains how buses are made in India</td>\n",
       "      <td>Manufacturing</td>\n",
       "    </tr>\n",
       "    <tr>\n",
       "      <th>9</th>\n",
       "      <td>ilpHXAhUVP</td>\n",
       "      <td>Manufacturing: Making Progress in India</td>\n",
       "      <td>How can India’s production and industrial deve...</td>\n",
       "      <td>Manufacturing</td>\n",
       "    </tr>\n",
       "    <tr>\n",
       "      <th>10</th>\n",
       "      <td>rY78dNXBpQ8</td>\n",
       "      <td>INDIA BIGGEST T-SHIRT FACTORY ! CHEAPEST T-SHI...</td>\n",
       "      <td>INDIA BIGGEST T-SHIRT FACTORY ! CHEAPEST T-SHI...</td>\n",
       "      <td>Manufacturing</td>\n",
       "    </tr>\n",
       "    <tr>\n",
       "      <th>11</th>\n",
       "      <td>1ZL9y_cNj</td>\n",
       "      <td>How Realme Smartphones Are Made - Realme Facto...</td>\n",
       "      <td>Hello Dosto is video me maine aap logo ko Real...</td>\n",
       "      <td>Manufacturing</td>\n",
       "    </tr>\n",
       "    <tr>\n",
       "      <th>12</th>\n",
       "      <td>UXvZBAy7Ok</td>\n",
       "      <td>LPG Cylinder Manufacturing India || LPG Cylind...</td>\n",
       "      <td>#cylinder #lpgcylinder #propane\\nLPG Cylinder ...</td>\n",
       "      <td>Manufacturing</td>\n",
       "    </tr>\n",
       "    <tr>\n",
       "      <th>13</th>\n",
       "      <td>SRva3Ze-kE0</td>\n",
       "      <td></td>\n",
       "      <td>As a preferred partner for leading aerospace a...</td>\n",
       "      <td>Manufacturing</td>\n",
       "    </tr>\n",
       "    <tr>\n",
       "      <th>14</th>\n",
       "      <td>VNjasaUkCB</td>\n",
       "      <td>Tiles Manufacturing Process | How to Start Til...</td>\n",
       "      <td>Like, Share, Subscribe, Support!\\n\\nTiles busi...</td>\n",
       "      <td>Manufacturing</td>\n",
       "    </tr>\n",
       "    <tr>\n",
       "      <th>15</th>\n",
       "      <td>6jDKtHsACak</td>\n",
       "      <td></td>\n",
       "      <td>As paper cups are a product of daily use and h...</td>\n",
       "      <td>Manufacturing</td>\n",
       "    </tr>\n",
       "    <tr>\n",
       "      <th>16</th>\n",
       "      <td>5eQxw0-0jaM</td>\n",
       "      <td>earn 150,000 per month from T shirt Manufactur...</td>\n",
       "      <td>in this video you will learn about t-shirt man...</td>\n",
       "      <td>Manufacturing</td>\n",
       "    </tr>\n",
       "    <tr>\n",
       "      <th>17</th>\n",
       "      <td>E0ACc3MvJ_k</td>\n",
       "      <td></td>\n",
       "      <td>INDIA SUPERPOWER NATION 🇮🇳🇮🇳🇮🇳\\n\\n\\n India wil...</td>\n",
       "      <td>Manufacturing</td>\n",
       "    </tr>\n",
       "    <tr>\n",
       "      <th>18</th>\n",
       "      <td>ZxYVZz8e2U</td>\n",
       "      <td></td>\n",
       "      <td></td>\n",
       "      <td>Manufacturing</td>\n",
       "    </tr>\n",
       "    <tr>\n",
       "      <th>19</th>\n",
       "      <td>jn4dgKuElsM</td>\n",
       "      <td></td>\n",
       "      <td>#MakeInIndia</td>\n",
       "      <td>Manufacturing</td>\n",
       "    </tr>\n",
       "  </tbody>\n",
       "</table>\n",
       "<p>119 rows × 4 columns</p>\n",
       "</div>"
      ],
      "text/plain": [
       "       Video_id                                              title  \\\n",
       "0      Yo5nOeHz              Gk Tricks in Hindi |भारत के लोक नृत्य   \n",
       "1    Usyc--VfHU                                                      \n",
       "2   YtFsn-YaO-A                                                      \n",
       "3   KfD5ztfTUig                                                      \n",
       "4     K4yWFUKX0                                                      \n",
       "5   8ScZDglWOMY                                                      \n",
       "6   -b1ZujcIyV0  Best Trick to Remember Dance Form of Indian St...   \n",
       "7    8_vrmvpRMQ  Art and Culture of India for RRB NTPC | Indian...   \n",
       "8   _4WmgIyg6rY   Eye Dancing and India’s Ancient Art of Kathakali   \n",
       "9     LgtFlXKC8    Folk Dances of India - Static General Knowledge   \n",
       "10  LY6Zqimdj38  Top 5 Dance Auditions On India's Got Talent | ...   \n",
       "11  zsRjGfRcya8                                                      \n",
       "12   JHBpBTQhW1                                                      \n",
       "13  jY84doDsK6U                                                      \n",
       "14  Rvf0C1pWGJ8                                                      \n",
       "15   InN8xgtg0A  Dance India Dance | West Ke Singhams - Mansi |...   \n",
       "16     Yo5nOeHz              Gk Tricks in Hindi |भारत के लोक नृत्य   \n",
       "17   Usyc--VfHU  Art and Culture of India for CSE: Part 2.1 Dan...   \n",
       "18  YtFsn-YaO-A  Dances in India | Art and Culture (Static GK) ...   \n",
       "19  KfD5ztfTUig  Classical and Folk Dances of India | Indian Ar...   \n",
       "20    K4yWFUKX0      Regional Dances of India in Hindi | Static GK   \n",
       "21  -b1ZujcIyV0  Best Trick to Remember Dance Form of Indian St...   \n",
       "22  8ScZDglWOMY  Special Class - Important Dance Forms of India...   \n",
       "23   8_vrmvpRMQ  Art and Culture of India for RRB NTPC | Indian...   \n",
       "24  _4WmgIyg6rY                                                      \n",
       "25    LgtFlXKC8    Folk Dances of India - Static General Knowledge   \n",
       "26  zsRjGfRcya8  [Hindi] Crash Course on the Indian Art and Cul...   \n",
       "27   xDDJxom05H        Top 10 Indian Dancers | Vote for your Best?   \n",
       "28   JHBpBTQhW1  Gk Tricks In Hindi | शास्त्रीय नृत्य | SSC ,MP...   \n",
       "29  jY84doDsK6U  Gk Tricks | भारत के प्रमुख नदी बांध (Dam) | SS...   \n",
       "..          ...                                                ...   \n",
       "10  211k9cbfo1k  The Beginning of India's History (Hindi/Englis...   \n",
       "11  NFczNHrbXB0                                                      \n",
       "12   lF3nhNvU-M                                                      \n",
       "13   RGyjvyXEKd                                                      \n",
       "14  HgS9q1Mfus0                                                      \n",
       "15   xWbLM-K7sM  Modern History (सम्पूर्ण आधुनिक भारत का इतिहास...   \n",
       "16  Ei_JGATir2Y  Archaeology : India The First Civilization Doc...   \n",
       "17  MZdeHvoROL4  History of Delhi in 12 Minutes | Delhi Sultana...   \n",
       "18  13comnBqWUU                                                      \n",
       "19  3NeDMtozQ8Q  'वास्को डी गामा' के भारत आने का इतिहास | Vasco...   \n",
       "0   1oMJRjY_uoM       The iPhone Will Be Made In India... But Why?   \n",
       "1   Qlk3As9wKN8  The Audi site in Aurangabad (India) -- Production   \n",
       "2   YpEYLuXF08Y      Smartphone - Made in India - The Sad Story...   \n",
       "3    YEgBe0a3A0                  John Deere manufacturing in india   \n",
       "4     qrUUAZJmN  Top 10 manufacturing business | manufacturing ...   \n",
       "5   ADrE-34TCYU  Mi LED Smart TV manufacturing plant Tour in India   \n",
       "6      Jxw_ZGen                                                      \n",
       "7   _xaLdFYk6BY  How to make shirt in India | The Great Indian ...   \n",
       "8    4J9ndbCxtN  LUXURY Bus manufacturing in India, smart industry   \n",
       "9    ilpHXAhUVP            Manufacturing: Making Progress in India   \n",
       "10  rY78dNXBpQ8  INDIA BIGGEST T-SHIRT FACTORY ! CHEAPEST T-SHI...   \n",
       "11    1ZL9y_cNj  How Realme Smartphones Are Made - Realme Facto...   \n",
       "12   UXvZBAy7Ok  LPG Cylinder Manufacturing India || LPG Cylind...   \n",
       "13  SRva3Ze-kE0                                                      \n",
       "14   VNjasaUkCB  Tiles Manufacturing Process | How to Start Til...   \n",
       "15  6jDKtHsACak                                                      \n",
       "16  5eQxw0-0jaM  earn 150,000 per month from T shirt Manufactur...   \n",
       "17  E0ACc3MvJ_k                                                      \n",
       "18   ZxYVZz8e2U                                                      \n",
       "19  jn4dgKuElsM                                                      \n",
       "\n",
       "                                          description       catagory  \n",
       "0   general awareness in Hindi | gk short tricks |...    Art & Dance  \n",
       "1   And we are back with Dances. You literally wil...    Art & Dance  \n",
       "2   Support for CAF Classes 👉 - http://bit.ly/2KGX...    Art & Dance  \n",
       "3   Performing Arts - Classical and Folk Dances of...    Art & Dance  \n",
       "4   Static GK: Regional Dances of India, Classical...    Art & Dance  \n",
       "5   Follow Arti Chhawari on Unacademy here: https:...    Art & Dance  \n",
       "6   Watch this video to learn the best trick to re...    Art & Dance  \n",
       "7   General Awareness for RRB NTPC 2019 | Art and ...    Art & Dance  \n",
       "8   Kathakali is a traditional Indian dance native...    Art & Dance  \n",
       "9   Download the Poket News App - http://bit.ly/2J...    Art & Dance  \n",
       "10  The best dance auditions from Got Talent India...    Art & Dance  \n",
       "11  To watch all lessons click here:- https://goo....    Art & Dance  \n",
       "12  Gk Hindi: शास्त्रीय नृत्य \\nनोट :- यक्षगान शास...    Art & Dance  \n",
       "13  Gk Hindi | indian geography | Best gk trick | ...    Art & Dance  \n",
       "14  Important Sports Trophies and Cups  | List of ...    Art & Dance  \n",
       "15  Dance India Dance |  West Ke Singhams - Mansi ...    Art & Dance  \n",
       "16  general awareness in Hindi | gk short tricks |...    Art & Dance  \n",
       "17  And we are back with Dances. You literally wil...    Art & Dance  \n",
       "18  Support for CAF Classes 👉 - http://bit.ly/2KGX...    Art & Dance  \n",
       "19  Performing Arts - Classical and Folk Dances of...    Art & Dance  \n",
       "20  Static GK: Regional Dances of India, Classical...    Art & Dance  \n",
       "21  Watch this video to learn the best trick to re...    Art & Dance  \n",
       "22  Follow Arti Chhawari on Unacademy here: https:...    Art & Dance  \n",
       "23  General Awareness for RRB NTPC 2019 | Art and ...    Art & Dance  \n",
       "24  Kathakali is a traditional Indian dance native...    Art & Dance  \n",
       "25  Download the Poket News App - http://bit.ly/2J...    Art & Dance  \n",
       "26  To watch all lessons click here:- https://goo....    Art & Dance  \n",
       "27  We have some extremely talented Dancers in Ind...    Art & Dance  \n",
       "28  Gk Hindi: शास्त्रीय नृत्य \\nनोट :- यक्षगान शास...    Art & Dance  \n",
       "29  Gk Hindi | indian geography | Best gk trick | ...    Art & Dance  \n",
       "..                                                ...            ...  \n",
       "10  The Video tries to trace the beginning of 'We ...        History  \n",
       "11  History of India documentary\\nFrom the indus v...        History  \n",
       "12  In this session of Modern Indian History Anuj ...        History  \n",
       "13  What if the history of India that we learn in ...        History  \n",
       "14  Be like SMART BANANA: https://goo.gl/JTfP6L\\n\\...        History  \n",
       "15  RPA STUDY Circle Unit OF AZAD IAS ACADEMY\\nhtt...        History  \n",
       "16  As Indian independence approached in the first...        History  \n",
       "17  Hi guys presenting you the series of Indian Hi...        History  \n",
       "18  Indian History Quiz : Governor Generals | Vice...        History  \n",
       "19  वास्को डी गामा के भारत आने का इतिहास | Vasco D...        History  \n",
       "0   Looks like Apple will start assembling its pre...  Manufacturing  \n",
       "1   Since September 2007 the company has been prod...  Manufacturing  \n",
       "2   Namaskaar Dosto, is video mein maine aapse Sma...  Manufacturing  \n",
       "3                                                      Manufacturing  \n",
       "4   1. Shade net making business\\n :- https://www....  Manufacturing  \n",
       "5   Mi LED Smart TV manufacturing plant Tour in In...  Manufacturing  \n",
       "6   Bigsmallideas@gmail.com    ( Please email for ...  Manufacturing  \n",
       "7   How to make shirt in indian Factory.\\nThe grea...  Manufacturing  \n",
       "8     this video contains how buses are made in India  Manufacturing  \n",
       "9   How can India’s production and industrial deve...  Manufacturing  \n",
       "10  INDIA BIGGEST T-SHIRT FACTORY ! CHEAPEST T-SHI...  Manufacturing  \n",
       "11  Hello Dosto is video me maine aap logo ko Real...  Manufacturing  \n",
       "12  #cylinder #lpgcylinder #propane\\nLPG Cylinder ...  Manufacturing  \n",
       "13  As a preferred partner for leading aerospace a...  Manufacturing  \n",
       "14  Like, Share, Subscribe, Support!\\n\\nTiles busi...  Manufacturing  \n",
       "15  As paper cups are a product of daily use and h...  Manufacturing  \n",
       "16  in this video you will learn about t-shirt man...  Manufacturing  \n",
       "17  INDIA SUPERPOWER NATION 🇮🇳🇮🇳🇮🇳\\n\\n\\n India wil...  Manufacturing  \n",
       "18                                                     Manufacturing  \n",
       "19                                       #MakeInIndia  Manufacturing  \n",
       "\n",
       "[119 rows x 4 columns]"
      ]
     },
     "execution_count": 68,
     "metadata": {},
     "output_type": "execute_result"
    }
   ],
   "source": [
    "df_copy"
   ]
  },
  {
   "cell_type": "markdown",
   "metadata": {},
   "source": [
    "### convert dataset into csv and download it"
   ]
  },
  {
   "cell_type": "code",
   "execution_count": 69,
   "metadata": {},
   "outputs": [],
   "source": [
    "df_copy.to_csv(\"youtube_new_data.csv\", encoding='utf-8', index=False)"
   ]
  },
  {
   "cell_type": "markdown",
   "metadata": {},
   "source": [
    "### Now working on this dataset and making model"
   ]
  },
  {
   "cell_type": "code",
   "execution_count": 3,
   "metadata": {},
   "outputs": [],
   "source": [
    "import numpy as np\n",
    "import math\n",
    "import seaborn as sns\n",
    "from sklearn import svm\n",
    "import matplotlib.pyplot as plt\n",
    "import pandas as pd\n",
    "from sklearn.model_selection import train_test_split\n",
    "from sklearn.preprocessing import StandardScaler\n",
    "from sklearn.model_selection import *\n",
    "from sklearn.preprocessing import MinMaxScaler\n",
    "from sklearn import linear_model\n",
    "from sklearn.metrics import *"
   ]
  },
  {
   "cell_type": "markdown",
   "metadata": {},
   "source": [
    "# To load the dataset"
   ]
  },
  {
   "cell_type": "code",
   "execution_count": 4,
   "metadata": {},
   "outputs": [],
   "source": [
    "dataset = pd.read_csv('youtube_new_data.csv')"
   ]
  },
  {
   "cell_type": "code",
   "execution_count": 5,
   "metadata": {},
   "outputs": [
    {
     "data": {
      "text/html": [
       "<div>\n",
       "<style>\n",
       "    .dataframe thead tr:only-child th {\n",
       "        text-align: right;\n",
       "    }\n",
       "\n",
       "    .dataframe thead th {\n",
       "        text-align: left;\n",
       "    }\n",
       "\n",
       "    .dataframe tbody tr th {\n",
       "        vertical-align: top;\n",
       "    }\n",
       "</style>\n",
       "<table border=\"1\" class=\"dataframe\">\n",
       "  <thead>\n",
       "    <tr style=\"text-align: right;\">\n",
       "      <th></th>\n",
       "      <th>Video_id</th>\n",
       "      <th>title</th>\n",
       "      <th>description</th>\n",
       "      <th>catagory</th>\n",
       "    </tr>\n",
       "  </thead>\n",
       "  <tbody>\n",
       "    <tr>\n",
       "      <th>0</th>\n",
       "      <td>Yo5nOeHz</td>\n",
       "      <td>Gk Tricks in Hindi |भारत के लोक नृत्य</td>\n",
       "      <td>general awareness in Hindi | gk short tricks |...</td>\n",
       "      <td>Art &amp; Dance</td>\n",
       "    </tr>\n",
       "    <tr>\n",
       "      <th>1</th>\n",
       "      <td>Usyc--VfHU</td>\n",
       "      <td>NaN</td>\n",
       "      <td>And we are back with Dances. You literally wil...</td>\n",
       "      <td>Art &amp; Dance</td>\n",
       "    </tr>\n",
       "    <tr>\n",
       "      <th>2</th>\n",
       "      <td>YtFsn-YaO-A</td>\n",
       "      <td>NaN</td>\n",
       "      <td>Support for CAF Classes 👉 - http://bit.ly/2KGX...</td>\n",
       "      <td>Art &amp; Dance</td>\n",
       "    </tr>\n",
       "    <tr>\n",
       "      <th>3</th>\n",
       "      <td>KfD5ztfTUig</td>\n",
       "      <td>NaN</td>\n",
       "      <td>Performing Arts - Classical and Folk Dances of...</td>\n",
       "      <td>Art &amp; Dance</td>\n",
       "    </tr>\n",
       "    <tr>\n",
       "      <th>4</th>\n",
       "      <td>K4yWFUKX0</td>\n",
       "      <td>NaN</td>\n",
       "      <td>Static GK: Regional Dances of India, Classical...</td>\n",
       "      <td>Art &amp; Dance</td>\n",
       "    </tr>\n",
       "  </tbody>\n",
       "</table>\n",
       "</div>"
      ],
      "text/plain": [
       "      Video_id                                  title  \\\n",
       "0     Yo5nOeHz  Gk Tricks in Hindi |भारत के लोक नृत्य   \n",
       "1   Usyc--VfHU                                    NaN   \n",
       "2  YtFsn-YaO-A                                    NaN   \n",
       "3  KfD5ztfTUig                                    NaN   \n",
       "4    K4yWFUKX0                                    NaN   \n",
       "\n",
       "                                         description     catagory  \n",
       "0  general awareness in Hindi | gk short tricks |...  Art & Dance  \n",
       "1  And we are back with Dances. You literally wil...  Art & Dance  \n",
       "2  Support for CAF Classes 👉 - http://bit.ly/2KGX...  Art & Dance  \n",
       "3  Performing Arts - Classical and Folk Dances of...  Art & Dance  \n",
       "4  Static GK: Regional Dances of India, Classical...  Art & Dance  "
      ]
     },
     "execution_count": 5,
     "metadata": {},
     "output_type": "execute_result"
    }
   ],
   "source": [
    "dataset.head()"
   ]
  },
  {
   "cell_type": "code",
   "execution_count": 6,
   "metadata": {},
   "outputs": [
    {
     "data": {
      "text/plain": [
       "Video_id        0\n",
       "title          36\n",
       "description     2\n",
       "catagory        0\n",
       "dtype: int64"
      ]
     },
     "execution_count": 6,
     "metadata": {},
     "output_type": "execute_result"
    }
   ],
   "source": [
    "dataset.isnull().sum()"
   ]
  },
  {
   "cell_type": "code",
   "execution_count": 7,
   "metadata": {},
   "outputs": [
    {
     "data": {
      "text/plain": [
       "(119, 4)"
      ]
     },
     "execution_count": 7,
     "metadata": {},
     "output_type": "execute_result"
    }
   ],
   "source": [
    "dataset.shape"
   ]
  },
  {
   "cell_type": "code",
   "execution_count": 8,
   "metadata": {},
   "outputs": [
    {
     "data": {
      "image/png": "[encoded data removed]",
      "text/plain": [
       "<Figure size 432x288 with 1 Axes>"
      ]
     },
     "metadata": {},
     "output_type": "display_data"
    }
   ],
   "source": [
    "dataset.groupby('catagory')['catagory'].agg('count').plot.bar();"
   ]
  },
  {
   "cell_type": "markdown",
   "metadata": {},
   "source": [
    "# Importing the libraries for cleaning the data"
   ]
  },
  {
   "cell_type": "code",
   "execution_count": 29,
   "metadata": {},
   "outputs": [
    {
     "name": "stdout",
     "output_type": "stream",
     "text": [
      "[nltk_data] Downloading package stopwords to\n",
      "[nltk_data]     C:\\Users\\user\\AppData\\Roaming\\nltk_data...\n",
      "[nltk_data]   Package stopwords is already up-to-date!\n",
      "{'we', 't', \"hasn't\", 'once', 'why', 'doesn', 'ours', \"doesn't\", 'about', 'i', 'you', 'these', \"won't\", 'with', 'in', 'shouldn', \"mightn't\", \"isn't\", 'not', 'during', 'each', 'theirs', 'was', 'as', \"couldn't\", 'a', 'both', 'aren', 'so', \"needn't\", 'do', 'while', 'did', 're', 'our', 'hadn', 'few', 'when', 'but', 'who', 'and', 'other', 'on', 'there', 'an', 'them', 'is', 'same', 'she', 'have', \"she's\", 'if', 'which', \"should've\", \"you'd\", 'hasn', 'mustn', \"weren't\", 'their', 'd', 'myself', 'doing', 'again', 'his', 'further', 'over', 'than', 'through', \"shouldn't\", 'can', 'himself', 'themselves', 'wouldn', 'because', 'him', 'most', \"you'll\", \"you've\", 'itself', 'he', 'don', 'weren', 'll', 'off', 'until', 'are', 'isn', 'down', 'yours', 'am', 'will', 'then', \"it's\", \"didn't\", 'her', 's', \"haven't\", 'after', 'wasn', 'what', \"don't\", 'my', 'this', 'all', 'haven', 'or', 'up', 'being', 'had', 've', 'yourselves', 'below', \"shan't\", 'they', 'any', \"mustn't\", 'above', 'very', 'couldn', 'own', 'of', 'out', 'between', 'from', 'nor', 'yourself', 'y', 'were', \"hadn't\", 'it', 'its', 'before', 'too', 'that', 'ain', 'more', \"you're\", 'where', 'now', 'should', 'only', 'didn', 'has', 'those', 'mightn', 'hers', 'under', 'shan', 'just', 'herself', \"wasn't\", 'whom', 'how', 'the', 'o', 'ourselves', 'been', \"that'll\", 'for', 'having', 'such', 'won', 'does', 'me', 'into', 'here', 'no', 'm', 'by', 'to', 'some', \"wouldn't\", 'at', \"aren't\", 'needn', 'against', 'be', 'your', 'ma'}\n"
     ]
    }
   ],
   "source": [
    "import re\n",
    "import nltk\n",
    "nltk.download('stopwords')\n",
    "stop= set(stopwords.words(\"english\"))\n",
    "print(stop)\n",
    "from nltk.corpus import stopwords\n",
    "from nltk.stem.porter import PorterStemmer"
   ]
  },
  {
   "cell_type": "code",
   "execution_count": 31,
   "metadata": {},
   "outputs": [
    {
     "name": "stdout",
     "output_type": "stream",
     "text": [
      "[nltk_data] Downloading package stopwords to\n",
      "[nltk_data]     C:\\Users\\user\\AppData\\Roaming\\nltk_data...\n",
      "[nltk_data]   Package stopwords is already up-to-date!\n",
      "{'वंचित', 'होम', 'पलायन', 'लंबी', 'किनारा', 'शेन', 'त्रिलोचन', 'म', 'चंडीगढ़', 'खेले', 'बना', 'झुलस', 'करेंगे', 'उग्रवादियों', 'पोशाक', 'होने', 'सर्वकालीन', 'गृह', 'चैपल', 'अन्याय', 'फ्रैक्लीन', 'डिसिल्वा', 'तीव्रता', 'रज्जाक', 'हमारी', \"'धोती'\", 'निकलने', 'फ्लेमिंग', 'अध्यक्षता', 'विजय', 'सूत्र', 'पड़', 'अगले', 'आतंकवाद', 'सेना', 'निभा', '५००', 'फिलहाल', 'वाला', 'उपचार', 'हमें', 'परांजपे', 'यॉर्कशायर', 'योजना', 'तौर', 'बनती', 'लालकृष्ण', '२१५', 'बहाल', 'अदालतों', 'अंडरआर्म', 'जवान', 'राष्ट्रपति', 'कठोरता', 'चला', 'उसके', 'आर', 'करीब', 'दूर', 'प्रार्थना', 'आंकड़ा', 'केंद्र', 'हैं', '८४', 'तरीके', 'इंग्लिश', 'हवाले', 'स्पर्धात्मक', 'सचिन', 'चौके', 'राष्ट्र', 'पाकिस्तान', 'पुलिंदा', 'दरारें', 'बिल्डरों', 'आगे', 'संरक्षण', 'स्थगित', 'हाईकोर्ट', '१६', 'दिलखुश', 'ईसाई', '१५२', 'स्थिति', 'पहुंचेेंगे', 'सुप्रीम', 'आर्थिक', 'रिश्तेदार', 'समिति', 'पिच', 'गए', 'अपराध', 'मंत्रालय', 'नुकसान', 'करोड़', 'छक्के', 'पिछले', 'खत्म', 'मात्र', 'असलियत', 'तिब्बत', 'लोकतंत्र', 'तीनदिवसीय', 'उम्मीद', 'एक्सप्रेस', 'तरफ', 'विश्वसनीय', 'फरहत', 'महत्व', 'जूं', 'श्रद्धालुओं', 'संस्था', 'स्थापना', 'लश्करे-तोयबा', 'उन्होंने', 'रूढ़िवादी', 'राहत', 'अनैतिकता', 'उनमें', 'संपूर्णानंद', 'जाएंगे', 'घंटे', 'संस्थान', 'विश्लेषण', 'एकान्त', 'रिजवी', 'असमां', 'पटनायक', 'मिश्र', 'मंगा', 'खुली', '१९८१', 'अगासी', 'कल्याण', 'होगा', 'नवंबर', 'युनिवर्सिटी', 'संज्ञा', 'सदस्य', 'अर्जी', 'भाग', '११', '१५', 'मिलता', 'शिवसेना', 'तैयारी', 'पुत्र', 'आवास', 'खेली', 'बनाया', 'कसरत', 'बहुमत', 'रुपए', 'उपयोग', 'लड़कियों', 'ठहरने', 'ओसीमा', 'गेंदबाज', 'सकलैन', 'ईसाइयों', 'मनाने', 'मजाक', 'मुख्यमंत्री', ':', 'खेलेगी', 'हमारे', 'सुल्तान', 'जाएगी', 'ग्रेग', 'अंदर', '१४', 'जोरों', '५७', '?', 'भयानक', 'गिरफ्तार', 'कहा', 'दिवसीय', 'बन', 'बारह', 'गरीबी', 'आरक्षण', 'महत्वपूर्ण', 'पद', 'पारिवारिक', 'खेलकर', 'शांति', 'खरीदे', 'हाथों', 'मेरे', 'दोष', 'स्टेडियम', 'स्थित', 'अनवर', 'मार्टिन', 'मुखपत्र', 'समाधान', 'प्रधानमंत्री', 'गंभीर', 'साथी', 'मिली', 'देखते', 'नेशनल', 'दर्शाता', 'देते', 'दलों', 'बिन', 'महत्त्वपूर्ण', 'अनेक', 'भवन', 'संवाद', 'हुर्रियत', 'बल्ले', 'म्हांब्रे', 'नौवां', 'वकार', \"'वीजा'\", 'चल', 'सामग्री', 'विभिन्न', 'आठवां', 'उधर', 'व्यक्तिगत', \"प्रतिबंध'\", 'आल', 'फिलिस्तीनी', 'क्रिकेटरों', 'खामियां', 'फौजी', 'एलटीसी', 'विलम्ब', 'शामिल', 'नंबर', '३२', 'आपदा', 'मानव', 'निकालने', 'हूं', 'नवीन', 'करने', 'गौतम', 'रोजर', 'विश्वास', '४३', '१९९०', 'प्रभावित', 'दक्षिणी', '८', 'बिना', 'विवादित', 'जबकि', 'संस्कृत', 'कश्मीर', 'गुरूओं', 'पत्रकार', 'दाखिल', 'सी', 'तीसरे', 'दल', 'कुमार', 'तहत', 'सूरत', 'तनावों', 'पार', 'निर्णय', 'रहना', 'फिजियो', 'भारी', 'बिगड़े', 'घटना', 'हैरिस', 'म्यांमार', 'आडवाणी', 'विवाह', 'आंग', 'जी', 'कय्यूम', 'महान', '८७', 'कांफ्रेंस', 'खेलेेंगे', 'आवश्यकता', 'मुलगंधा', 'जीत', 'तीन-तीन', 'आंकलन', 'अन्य', 'जीता', 'खेला', 'दोस्ती', 'तीन', 'लगने', 'घायल', 'एकादश', 'चुकाए', 'कि-', 'आदमी', 'बिल्डिंग', 'महासचिव', 'बतलाया', 'जेसन', 'जयसूर्या', 'प्रेरित', 'पड़ोसियों', 'इंग्लैंड', 'वासन', 'पर्दा', 'आ', '४१', \"''समर्थन\", 'रोकने', 'युनूस', 'की', 'क्षतिग्रस्त', 'पर्यावरण', 'किंतु', 'मुठभेड़ें', 'दुर्गुणों', 'मुंबई', 'दोनो', 'तीस', 'वेतन', 'हाई', 'दहिया', 'दिखायेे', 'होगी', '८०', '१७वें', 'का', 'रमेश', 'ऑफ', 'एग्रीकल्चर', 'नौजवान', 'आयोग', 'न्यू', 'गृहमंत्री', 'पीटर्स', 'सक', 'नौ', 'अमानुल्ला', 'पिछड़', 'खोये', 'सूचना', 'मौसम', 'खाता', 'पुरुष', 'हरदनहल्ली', 'सहयोगी', 'फिलिस्तीनियों', 'गॉफ', 'करती', 'मुस्लिम', 'बढ़ाए', 'आईसी', 'काठमांडू', 'सीताराम', 'कराये', 'पाए', 'लेजिस्लेटर', 'पीड़ित', 'मैक्ग्रा', 'देहातों', 'को', 'सिर', 'उपमुख्यमंत्री', 'बातचीत', 'भड़क', 'न', 'वेलिंग्टन', 'नेताओं', 'मार्टिना', 'पांच', 'वॉ', 'जिनकी', 'गुरुवार', 'प्रभावशाली', 'फिर', 'आगरकर', 'सुब्रह्मणयम', 'सईद', 'देवगौड़ा', 'फाहद', 'छक्कों', 'लिबरेशन', 'आयी', 'डॉ', 'और', 'प्रदेश', 'निजी', 'गांव', 'बरतने', 'इंडिया', 'ज्यादातर', 'कुलकर्णी', 'खिलाड़ियों', 'एसपीजी', 'चूंकि', 'जिसके', 'चाहिए', 'सिमट', 'साक्षर', 'जोसेफ', 'माह', 'सिंध', 'ट्रेन', 'जिहाद', 'कार्यक्रमों', 'बौद्धधर्मी', 'जाफर', 'गुटों', 'किनारों', 'फरवरी', 'चौकों', 'भिन्न', 'मीडियम', 'कैडर', 'संगठित', 'था', 'संकेत', 'सामना', 'रवाना', 'बढ़ोतरी', 'फायदा', 'स्पोर्ट्स', '२८६', '२४४', 'देशों', 'गठन', 'जैसे', 'बहुमूल्य', 'स्थान', 'शिवरात्रि', 'बात', 'लालचौक', 'इनकार', 'नतीजा', 'आठ', 'पैदा', 'उस', 'बोल्ड', 'पीठ', 'साइबस', 'गिलक्रिस्ट', 'नाबाद', 'बल्लेबाज', 'फैक्स', 'समझना', 'जीते', 'बनाने', 'एकल', '३४९', 'प्रसन्न', 'मुकदमा', 'दे', 'बजट', 'प्रायोजकों', 'सत्तार', 'मंदिर', 'उपकरण', 'ें', 'रात्रि', 'प्रकार', 'धन', 'दूसरे', 'तीर्थ', 'क्या', 'धक्का', 'विस्तार', 'सरहदी', 'खोने', 'रेसकोर्स', 'इजिप्ट', 'उल्लेखनीय', 'गेंदबाजों', 'जायज', 'पड़ने', 'नागरिकों', 'चलाया', 'एक', 'जिम्मेदार', 'मैदान', 'लाख', 'उठाते', 'जेकेएलएफ', 'आकस्मिक', 'ट्रेनिंग', 'ठाकरे', 'बनाई', 'दौरान', 'हिरासत', 'जहांगीर', 'उठाएगी', 'कोई', 'हसीना', 'नवाज', 'साहिब', 'सोमवार', '८५', 'हैंडल', 'मिनट', 'टुज', 'मेें', 'जानकारी', 'आपसी', 'अल्पसंख्यक', 'लिखे', 'अप्रैल', 'बेमतलब', 'बड़े', 'कैथेडरल', 'यूनिवर्सिटी', 'कट्टरवादी', 'हाथ', 'यदि', 'आज', '१९९६', 'राल्फे', 'संतुलित', 'छबीलदास', 'चली', 'पेरु', 'स्वींगर', 'ग्लास्टर', 'बगदाद', 'कहना', 'ग्यारह', 'इसलिए', 'बदले', 'कप्तान)', '१८', 'स्वीकृति', '७३', 'गर्वांवित', 'मंगाने', 'अमेरिका', 'करगिल', 'नजीर', 'अब्दुर', 'घटनाओं', 'रेल', 'कड़ी', 'बल्कि', 'वित्तमंत्री', 'सब्जी', 'मोंगिया', 'यूनुस', 'अभी', 'मुजफ्फर', 'डाक्टरों', 'सब', 'पहले', 'बाल', 'पवार', 'रिपोर्ट', 'दिघे', 'नए', \"पॉलिसी'\", 'गेंदबाजी', '११६', \"कोड'\", 'वजह', 'चरखी', 'नई', 'वापसी', 'देता', 'क्षेत्रों', 'गेंद', 'अनुसार', 'घायलों', 'मायने', 'संवेदनशीलता', 'सनथ', 'है', 'प्रस्ताव', 'अध्ययन', 'सभी', '-', 'संस्कार', 'बताया', 'लंदन', 'जोड़े', 'इजराइलियों', 'पुत्रवधू', 'आखिरकार', 'बनाएं', '३८', 'गुमराह', 'ठोस', 'लगाए', 'दिल', 'यहां', 'पंचायत', 'शाम', 'क्यूरेटर', 'इस्तीफे', 'विकेटकीपर', 'विट्टोरी', 'खिलाड़ी', '२४', 'अुनासर', 'उद्देश्य', 'करते', 'स्पिनर', 'पूर्व', 'बुश', 'विशेषज्ञ', 'वित्तीय', 'मद्देनजर', 'पहुंचा', 'हत्याओं', 'बंागलादेश', 'परेशान', 'दिनेश', 'संरचनाओें', 'गठबंंधन', 'काफी', 'मेहता', 'कैंपों', 'ठहराया', '३६', 'सैनिक', 'वकील', 'बढ़कर', 'प्रत्यर्पण', 'होंगे', 'पड़े', 'रिची', 'इससे', 'हार्ट', 'पुस्तक', 'नवीनीवकरण', 'चले', 'एहुद', 'रन', 'दस', 'छोड़', 'किस', 'शानदार', 'करे', 'आत्महत्या', 'लंडन', 'संख्या', 'सुपरस्टार', 'हिंगिस', 'तेजाब', 'बंगलौर', 'केेंसिंग्टन', 'मैचके', '२४०', 'निर्माताओं', \"एवेन्यू'\", 'संबंधित', 'घोषित', 'स्वागत', 'रोजमर्रा', 'मैन', 'मेल', 'अवसरों', 'लगी', 'ग्रामीण', 'जा', 'कौशल', 'माना', 'सिमटी', 'अमरीकी', 'एडिलेड', 'मैचों', 'आना', 'सका', 'ठिक', 'ही', 'अब', 'प्राचीनतम', 'बहुत', 'गत', 'कड़ाई', 'मेकेन्रो', 'महिलाएं', 'मध्यस्थता', 'पेस', 'मैथ्यू', 'दो', 'मल्लिकार्जुन', 'वापस', 'कर्नाटक', 'बारे', 'छिपाने', 'होता', 'करनेवाली', 'दुनिया', 'शरीफ', 'संभावना', 'कोड', 'मानसिकता', 'आग्रह', 'व्यवस्था', 'चेनम्मा', 'बौद्धिक', 'दौरा', 'पड़ा', 'मिसाइलें', 'गिरने', 'हॉकी', '११४', '१९७९-८९', 'डेविस', '१९८०', 'कारगिल', 'नक्शे', 'जिन्होंने', 'शतकीय', 'देने', 'तेजी', 'ग्राउंड', 'जताते', 'करमुक्त', 'कार्यकारी', 'अस्पताल', 'व्हाइट', 'ऐसा', 'खिलाफ', 'व्यापक', 'लाल', 'शरणार्थी', 'निर्माण', 'झटके', 'जतिन', 'सहित', 'अधिकार', '५१', 'थमे', 'होती', 'नाराज', 'विदेश', 'घुसकर', 'सफल', 'सही', 'खान', 'मान्यता', 'जोखिम', 'जासूसी', 'ऑस्ट्रेलियन', 'लगाया', 'गुप्तचरों', 'यात्रा', 'उच्चायोग', 'चुने', 'महमूद', 'होते', 'खरीदता', 'सेनाओं', 'अरब', 'तरार', 'सकता', 'गेंदों', '३९', 'जर्मनी', 'कोष', 'जल्दी', 'रूपये', 'तलाश', '६३', 'कई', 'जमकर', 'सम्मानजनक', 'शुरुआत', 'मैचोें', 'बतलाए', 'औरराष्ट्रीय', 'पर', 'मदद', 'उसी', 'सारनाथ', 'नहीं', 'सचिव', 'खोया', 'मस्याओं', 'स', 'अंतिम', 'पहन', 'संगठन', 'खो', 'वहां', 'शरद', 'जाना', 'टफी', 'बीच', 'वास्तविकता', 'सक्रियता', 'सिन्हा', 'जसवंत', 'पटियाला', 'सालों', 'वर्षीय', 'मिलेंगे', 'वाजपेयी', 'संयुक्त', 'निरक्षर', '४७', 'समयानुसार', 'सहयोग', 'आई', 'नागरिक', 'शताब्दी', 'अधिकतम', 'पड़ोसी', 'महाराष्ट्र', 'तेज', 'सांठगांठ', 'पाने', 'श्रद्धांजलि', 'मोइन', 'हराकर', 'होऊंगी', 'रूप', 'चलाने', 'चक्र', 'पारंपरिक', '२६', 'सेलेस', 'पेशावर', 'विकास', 'उठा', 'सेेंटिनियल', 'पैट्रिक', 'खोखला', 'एस्टल', 'पूजा-अर्चना', 'बंगाल', 'भ्रष्टाचार', 'पहल', 'आने', '१७', 'हैै', 'साक्षात', 'कमर', 'शिकायत', 'आईएएस', 'चार', '९२', 'सर', 'भाजपा', 'रह', '२', 'जेनिफर', '३७', 'राजस्थान', 'मुद्दे', 'पुत्री', 'अराजकता', 'बढ़त', 'तभी', 'बेरोजगारी', 'नवनिर्वाचित', 'समझौता', 'बेचने', 'सूकी', 'हार', 'करना', 'पुत्रियां', 'इजराइल', 'मांगों', 'किसी', 'ठुकराया', 'आंकड़ों', 'हल', 'सुनवाई', 'चुकी', 'अमरीका', 'एकदम', 'गर्मजोशी', 'सेना-भाजपा', 'बलात्कार', 'काम्पलेक्स', 'मंत्री', 'सदस्या', 'बारामूला', 'समर्थक', 'सेकेट्ररी', 'बर्मा', 'दो-दो', 'पैवेलियन', 'खेलने', '२८०', 'कश्मीरी', 'अत्याचारों', 'ऐसे', 'अफ्रीका', 'अपितु', ')', 'स्त्री', '१०', 'वेदपाल', 'रखेगा', 'रहे', 'आसपास', 'रखकर', 'लेंगे', 'असिस्टेंट', 'खबर', 'काम', 'थक', 'एसोसिएशन', 'किया', 'वाराणसी', 'व्याख्यान', 'संघर्ष', 'आफरीदी', 'रहने', 'जबरदस्त', 'महिलाओं', 'शुक्रवार', 'सुविधा', 'मेरी', 'शृंखला', 'सरकारी', 'पार्क', 'परिस्थितियां', 'ऑस्ट्रेलिया', 'लैन', 'दीवालिया', 'कैप्रियाती', 'विलक्षण', 'से', 'नाम', 'कर्मचारी', 'पांडे', 'क्योेंकि', 'व्यक्त', '३२८', 'चिली', 'नीतियों', '९१', 'पढ़', 'परिषद', 'मार्च', 'एक-एक', 'रेंगती', 'कानून', 'टेस्ट', 'संबोधित', 'परवेज', 'संघ', 'मुझे', 'लादेन', 'पटना', 'चौकन्ना', 'आधार', 'टुस', 'सहायता', 'भारत-पाकिस्तान', 'इतिहास', 'भागीदारी', 'उग्रवादी', 'निष्क्रमण', 'जायेेंगे', 'परमार', 'सामने', 'वह', 'कीमत', 'झटका', 'जांच', 'सांगकारा', 'मदरसों', '१९९९', 'देगा', \"।''\", '१२३', 'निरक्षरता', 'लागत', 'वसीम', 'अपराधी', 'बाद', 'जनहानि', 'दौरे', 'थे', 'आशंका', 'विरोधी', \"'हालांंकि\", 'मिलेगा', 'विरूद्ध', 'राष्ट्रीय', '२२', 'मर्वन', 'न्यायालय', 'आंद्रे', 'राजा', 'जिन', 'कोफी', \"'करगिल\", 'रहेगा', 'खेलना', 'उभरकर', '११२', 'हरकत-उल-मुजाहिदीन', 'खेलेंगे', 'भाव', 'हिंदू', 'स्थानीय', 'दायें', 'मनाएंगे', 'मिले', 'जुड़े', 'सदन', 'पहुंचती', 'नवम्बर', '१७३', 'लपके', 'थी', 'बढ़ता', 'जताई', 'प्रबंध', 'सलाहकार', 'समुद्रपार', 'दावा', 'चैंपियन', 'नही', '८१४', 'सिर्फ', 'ज्यादा', 'पहुंचे', \"'हम\", 'अनुमति', 'राय', 'सुरक्षा', 'जे.पी.यादव', 'डेमियन', 'कैंप', 'आयात', 'विकसित', 'बांगलादेश', 'स्तर', 'शासकों', 'बिहार', 'नष्ट', 'पुन', 'डर्बीशायर', \"'शाम\", 'खराब', '४', 'रहेंगे', 'दर्शन', 'इमारत', 'मैच', 'करेगा', 'किये', 'तथ्य', 'रफीक', 'पत्नी', '१२', 'मजुमदार', 'मिलर', 'रही', 'होना', 'ताकि', 'उपरांत', 'उनसे', 'हज', 'फेंका', '४२०', 'समूह', 'रोका', 'मुलाकात', 'ओसमा', 'पार्टी', 'बजकर', 'निरस्त', 'दादरी', 'ढाका', 'पंाच', 'म्यामांर', 'केेंट', 'सन', 'शेरोन', 'जीतकर', 'हालंकि', 'मुख्यत', 'प्रतिशत', 'चौथे', 'विमोचन', 'हित', 'प्रस्तावों', 'झूठ', 'आरोप', 'लिखा', 'उंगली', 'नईदिल्ली', 'वीजा', 'प्रसारण', 'खासा', 'विंसेट', 'छीटें', 'बम', 'सराहा', 'दिया', 'शमीम', 'स्कूल', 'डी', 'पहुंचने', 'सरदार', 'कानितकर', 'छठे', 'खोकर', 'प्लम्ब', 'मिलीजुली', 'प्रात', 'सेंट', 'कलिनन', 'आम', 'उपाध्यक्ष', 'लिहाजा', 'वार्न', 'बलों', 'सेवक', 'निचली', 'उपलब्ध', '१९९८', 'श्रीराम', 'तैयार', 'पार्टियों', 'अनुबंधित', 'अपील', 'झेल', 'कुख्यात', 'स्वयं', 'बाहर', 'ठुकराते', 'कम', 'इजराइली', 'बाहरी', 'लपकवा', 'निधन', '२४३', 'मेरा', 'बतलाने', 'स्थलों', 'सदस्यों', 'हर', 'कुटी', 'अस्वास्थ्यकर', 'करवाए', 'सानसूकी', 'जनवरी', 'घाटी', 'कृष्णा', 'कोशिश', '८८', 'दुखी', 'अनुबंध', 'पारी', '४११', 'वैरिस्टर', 'अपना', 'यूसुफ', 'जाएगा', 'माध्यम', 'पहुंचाया', 'संतुष्ट', '१११', 'विभाग', 'इसमें', 'परिस्थितियों', 'तब', 'एस्ट्रो', 'तक', 'इनमें', 'शहाबुद्दीन', 'दिए', 'दुष्प्रचार', 'द्वारा', 'विवाद', 'बल्लेबाजों', 'प्रदर्शनी', 'दिन', 'मुठभेड़ों', 'सके', 'विषय', 'ब्लूचिस्तान', 'ट्रैक', 'गिर', 'मजबूती', 'लैंगर', 'उल्लेख', 'यादव', 'सम्पूर्ण', 'प्रकरण', 'महसूस', 'उठाए', 'महिला', 'बंग्लादेश', 'एशिया', 'सेठ', 'मौत', 'सीडी', 'पत्रकारों', 'छक्का', 'संभाला', 'दसवेें', 'पालन', 'सुंदर', 'बजरा', 'गांधी', 'गिलानी', 'राजकोट', 'नाटक', 'कुल', 'बिता', 'चौधरी', 'किसानों', 'जयपुर', 'अभ्यास', 'बहुमंजिला', 'कोर्ट', 'मुख्य', 'आश्चर्य', 'फर्जी', 'अंत', 'आठवें', 'पटसानी', 'उचित', 'रणनीति', 'पैनल', 'लोकसभा', 'पाकिस्तानी', '६८', 'योग', 'खर्च', 'उठाती', 'आफ्टर', '३५', 'लेबर', '७०', 'जानेवाले', '२८', 'केवल', 'गठित', 'हानिकारक', 'आरोपों', 'कराई', 'अतिशयोतिपूर्ण', 'सामान्य', 'हृषिकेश', 'मकान', 'सक्रिय', 'आउट', 'सैम्प्रास', 'साल', '१३८', 'माने', 'हल्के', 'व्यक्ति', 'कर', 'राजेश', 'प्रशंसा', 'ओर', 'ऑस्ट्रेलियाई', 'हाथोें', 'क्रिस', 'प्रशंसनीय', 'मोईन', 'आपत्ति', 'बुद्धिजीवियों', 'उन', 'श्रीनाथ', 'विमोजन', 'परेशानी', '५', 'गाजापट्टी', 'जिनमें', '१३', 'कितना', 'पदभार', 'लेने', 'जोड़ी', 'बनाये', 'गाले', 'सात', 'लागू', 'इयान', 'कि', 'होनेवाले', 'ले', 'औपचारिक', 'मार्च-अप्रैल', 'दोहा', 'गांगुली', 'प्रोविंस', 'संकट', 'ऑस्ट्र्रेलिया', 'एम', 'बकवास', '६७', 'चलेगा', 'उनके', \"'मैं\", 'गहन', 'ने', 'लग', 'जनरल', '७८', 'कक्षा', 'जीती', 'सिंथेटिक', 'करता', 'हुआ', 'महीनों', 'सलीम', 'सुरजीत', 'अहमदाबाद', 'टेनिस', 'राज्यों', 'स्वीकृत', 'जमाने', 'देंगे', 'मोनिका', 'मानवअधिकार', 'इंस्टीट्युट', 'संकीर्ण', 'मौन', '११९', 'घर', 'पांचवें', 'हंस', 'देती', 'प्रसार', 'नेतागण', '(', 'रहा', 'क्रम', 'फैसला', 'मुशर्रफ', 'कराया', 'आधारिक', 'मिला', 'चाहती', 'अगला', 'शरीक', 'मकानों', 'घटी', 'ग्लेन', 'ब्रैडमैन', 'तेंदुलकर', '६१', 'सीमा', 'कटटरता', '३२७', 'जस्टीन', 'शोर-शराबा', 'नजरबंद', 'अफगानिस्तान', 'काउंसिल', '२५', 'श्रीमती', 'प्रतिक्रिया', 'अपहरण', 'अलावा', 'नियंत्रित', 'बचाने', 'जीलैंड', 'घटनाएं', '३-२', 'निर्धारित', 'जहां', 'पाक', 'अधिकारियों', 'घट', 'मार', 'नवीनीकरण', 'आये', 'धर्म', 'चुका', '८२', 'अधिक', 'शुरू', 'मुद्दा', 'रिहा', '३०', 'अख्तर', 'आदि', 'पाऊं', 'छानबीन', 'भावनाएं', '२०', 'अधिकारी', '१९६१', 'जिन्हें', 'दिलचस्प', 'साथ', 'सिखाया', 'शेख', 'पहला', 'फिलीस्तिन', 'युद्धविराम', 'एण्ड', 'श्रेणी', 'लगाता', 'उसने', 'स्वदेश', 'बहुमंजिली', 'उसे', 'श्रीनगर', 'चुनाव', 'डैरिल', 'शॉट', 'लिये', 'बीजद', 'उक्त', 'मिलकर', '११५', 'सच्चाई', 'कहती', 'जम्मू-कश्मीर', 'जिसमें', \"'गिरिराज\", 'दिखाई', 'शतक', 'पैर', 'कमी', 'समस्या', 'ये', 'प्रति', 'साफ', '२०००', 'उदाहरण', 'कांग्रेस', 'बढ़ती', '३', 'हिंसा', 'फॉर', 'विनायक', 'राज्यपाल', 'पटेल', 'खाली', 'रनों', 'कुरान', 'रिकी', 'कार्रवाई', 'मिलेगी', 'चौतरफा', 'लक्ष्य', 'हिरवानी', 'येरूशलम', 'सत्र', 'महाविद्यालयीन', 'कप्तना', 'रहन', 'जानी', 'शीर्ष', \"'भारतीय\", 'अथवा', 'दुबई', 'सितंबर', 'अफगानी', '६०', 'फेंककर', \"'जम्मू\", 'वे', 'हरभजन', 'सरकार', 'ओवर', 'कार्यभार', 'औसतन', 'सबसे', 'परिणामकारक', 'आया', 'दर्जन', '६५', 'फ्रांस', 'इराक', '४०९५', '०५', 'हरियाणा', 'कह', 'सवाल', 'पक्षों', 'बोर्ड', \"'ड्रेस\", 'पुछल्ले', 'अच्छा', 'चर्चा', 'नकारा', 'चैलेंजेस', 'राजीव', 'राकेश', 'यह', 'रूस', 'भिवानी', 'सान', 'जार्ज', 'लुधियाना', 'सूत्रों', 'जल्दी-जल्दी', 'ओवल', 'नौवें', '७१', 'बुधवार', 'घटा', 'खेल', 'बिट', 'सांसद', 'किए', '२१वीं', 'खुल्ला', 'अत', 'उपकप्तान', 'वी', 'प्रयास', 'जाने', 'सऊदी', 'जनता', 'एंड', 'मापा', 'इराकी', 'आतंकवादियों', 'ट्रेंनिंग', 'बैंकाक', '१९३', 'कभी', 'अलग', 'गठबंधन', 'उनका', 'हुए', 'संसद', 'सत्ता', 'समय', 'कार्यालय', 'मुश्ताक', 'भतीजे', 'स्टीव', 'भुट्टो', 'शुक्र', 'अनिर्णयता', 'यौन', 'कमेटी', 'विनाशकारी', 'इन', 'मौका', 'अधिकारों', 'मीडिया', 'सबूत', 'भूकंप', 'छह', 'टर्फ', 'खेलते', 'मैंने', 'खास', 'राजाराम', 'ओरम', 'अवसर', 'वकीलों', '५३', 'लपकवाया', 'भी', 'जमींदारों', 'नियुक्त', 'लिया', 'जॉन', 'हमले', 'ठुकरा', 'खड़गे', 'दूं', 'अध्यक्ष', 'केतन', 'उपयोगी', 'हाल', 'कार्यक्रम', 'बने', 'जंगली', 'बजे', \"'युद्धविराम\", 'जायेगा', 'मैं', 'हो', \"'सुव्यवस्थित\", '५०', 'व', 'यूरोपभर', 'भाई', 'युगल', 'जम्मू', 'भय', 'लापरवाही', 'खेलूंगा', 'उठने', 'वर्षों', 'पर्यवेक्षक', 'भुवनेश्वर', 'सम्बंधी', 'स्वीकार', 'जवागल', 'दसवां', 'युद्ध', 'शोएब', 'शरणार्थियों', 'आदेश', 'बार', 'स्थल', 'मुकाबला', 'प्रक्रिया', 'छोर', 'प्रशासक', 'बेनजीर', 'सर्वदलीय', 'सकते', 'डिपुटी', 'प्रवक्ता', \"'समय\", 'प्रतिपक्ष', 'जो', 'हजार', 'उड़ाया', 'विवादास्पद', \"'आशियान'\", 'लगा', 'प्रस्तुत', 'हिंसक', 'डुनेडिन', 'भूतपूर्व', 'थाने', 'आफरिदी', 'दृष्टि', 'क्रॉफ्ट', 'दूसरा', 'सैन्य', 'बयाक', 'हड़ताल', 'गुजरात', 'फ्रांटियर', 'रोक', 'हमने', '२७', 'लेना', 'वैद्य', 'मी', 'बिल्कुल', 'पोलो', 'कान', 'बराक', 'योगदान', 'नरेंद्र', 'बैठक', 'इसलाम', 'मदरसे', 'भारत', 'कप्तान', 'केंजो', 'दायर', 'इसे', 'पूंजी', 'समीर', 'प्रयोग', \"'\", 'अटलबिहारी', 'दिनों', \"'हमें\", 'यानी', 'पत्र', 'प्रयासों', 'राष्ट्रवादी', 'क्षेत्र', 'आजादी', 'तो', 'धुलाई', 'पीछे', 'प्रशासकों', 'फैसले', 'फिल्म', 'जरगर', 'नियम', 'सौंपी', 'समर्पण', 'पुल', '८३', 'विलियम', 'संदेहास्पद', 'मांगे', 'उद्योग', 'ताकत', 'जाए', 'चिमनभाई', 'राजधानी', '.', 'संवाददाता', 'रशीद', 'लोग', 'प्रो', 'स्लिप', 'बंद', 'आमसहमति', 'खामियों', 'उनकी', 'आवाजें', 'फैलाव', 'दर', '२२१', 'सप्ताह', 'इस्लामी', 'थीं', 'इसकी', 'प्राप्त', 'विशेष', '१९७', 'लड़कियां', 'परीक्षा', 'उच्च', 'रुकी', 'संगीत', 'अकादमी', 'वर्ष', 'कैच', 'स्केल', 'पुराने', 'पोंटिग', 'जितने', 'याचिका', 'अल-उमर', 'दक्षिण', 'शहीद', 'रक्षा', 'लेकर', 'गवर्नर', 'रिक्टर', 'पीट', 'देना', 'विपक्ष', 'चुनौती', 'जाये', 'एडम', 'सिंह', 'प्रारूप', 'चैंपियनशिप', 'पुलिंदे', 'बनाकर', 'या', '६४', 'हिस्सों', 'विमान', 'गया', 'पढ़ाई', 'सकें', '४०६', 'न्यायिक', 'विपक्षी', 'असाधारण', 'जुलाई-अगस्त', 'चिंतित', 'दबाव', 'भवनों', 'यानि', 'हथियारों', 'ख्याल', 'समाप्त', 'केंट', 'कैमरामैन', 'प्रजातंत्र', 'कुछ', 'डालने', 'हेडन', 'सितम्बर', 'चुके', 'द्रविड़', 'कैमरा', 'गंेद', 'शास्त्री', 'जैस-ए-मोहम्मद', ',', 'फाइनल', 'सर्वाधिक', 'ध्यान', 'विराम', 'कॉम्प्लेक्स', 'दुरूपयोग', 'राज', 'कस', 'कमजोरी', 'जीतने', '९', 'स्टम्प', 'वकालत', 'पेश', 'लड़ते', 'बढ़ी', 'व्यक्तियों', 'काउंटी', 'अनपढ़', 'मरम्मत', 'आदान-प्रदान', 'शुरुआती', 'तहरीक-उल-मुजाहिदीन', 'वजूभाई', 'ली', 'विपणन', 'रखा', '३३', 'मानवाधिकार', 'चौंका', 'नाजाभाई', 'बलात्कारों', 'उन्हें', 'दर्शाते', 'बनाता', 'भटकाने', 'एस', 'वानखेड़े', 'पास', 'बधाई', 'निवासियों', 'इसी', 'उपमहाद्वीप', 'अब्दुल', 'अवधि', 'कैफ', 'संगठनों', 'रिवाज', 'एनसीपी', 'वहीं', 'एरियल', 'बहुतुले', 'नारायणन', 'होेनेवाले', 'हैट्रिक', 'बृजेश', 'अंतरराष्ट्रीय', 'द', 'प्रतिबंधों', 'आगामी', 'नामक', 'पहनने', 'मुताबिक', 'संचालित', 'गई', 'ममता', 'पिता', 'में', 'पहुंच', 'एकदिवसीय', 'अटापट्टु', 'पाये', 'पुलिस', 'परिवर्तन', 'उप', 'तेेंदुलकर', 'कवरेज', 'विधानसभा', 'जुलूस', 'अनुशासन', 'भारतीय', 'जब', 'कहीं', 'सलामी', 'मध्य', 'दास', 'जाता', 'कप', '३४', 'चाहते', 'चलते', 'जैसी', 'सूखे', 'लौट', 'देकर', 'ड्यूटी', 'गतिविधियों', 'रखी', 'क्रिकेट', 'खोला', 'मांग', 'चलाना', 'पतलून', 'साईंराज', 'रखने', 'तथा', 'दुहाई', 'क', 'समर्थन', 'इंस्टीट्यूट', 'मानी', 'सुरिंदर', 'इस', '४००', 'लोगों', 'न्यायाधीश', 'उठापटक', 'शासन', 'लीमा', 'तीसरा', 'नाराजगी', 'तीनों', 'नया', 'जाती', 'संभालने', 'फ्रैंक्लीन', 'छल', 'लगे', 'उपेक्षा', 'मारे', 'तालिबानों', 'कस्टम', '४५', 'अमोल', 'निर्यात', 'राहुल', 'डाला', 'रिकॉर्ड', 'हुसैन', 'खुलेआम', 'बर्खास्त', 'प्रमुख', 'क्रमश', 'इस्लाम', 'गति', 'नेता', 'उड़ीसा', 'न्यूयार्क', 'खिताब', 'हरा', \"'केंट'\", 'पक्ष', 'उन्हेें', 'योहाना', 'न्याय', 'अन्ना', 'मानते', 'खेलों', 'बयान', 'दें', 'शरणदीप', 'यशवंत', 'श्रीलंका', '९८', 'टैंक', '५६', 'भविष्यवाणी', 'प्रतिबंध', 'ट्रेवर', 'दोनों', '१७२', 'परिणाम', 'भरने', 'जायदाद', 'कैलिफोर्निया', 'चर्चाएं', 'देखी', 'पोंटिंग', 'अपने', 'जुड़ने', 'मूल', 'करमापा', 'एनडीए', 'गये', 'परिवार', 'चिंता', 'ग्यालवा', 'जनतांत्रिक', 'जगह', 'जीवन', 'हों', 'अहमद', 'लगाये', 'गहरा', 'हालात', 'आनंदपुर', 'आतंक', 'पता', 'ठहरेंगे', 'डेढ़', 'दहशत', 'दूसरी', 'मोदी', 'आयोजन', 'यूरोप', 'पहली', 'बेनो', 'शहर', 'ब्रेबोर्न', 'नेतृत्व', 'पहुंचेंगे', 'विहार', 'हथियार', 'हुई', 'गनी', 'साक्षरता', 'के', 'सभा', 'बल्लेबाजी', 'मुजाहिदीन', 'मामले', 'घटिया', 'संभाल', '४६', 'आधिकारिक', 'धोती', 'समारोह', 'नार्थ-वेस्ट', 'घटने', 'इसके', 'आतंकवादी', 'आयाम', 'जायेंगे', 'उड़ाये', 'इस्लामाबाद', 'आयोजित', 'पूर्ण', 'वाले', 'खूब', '४९', 'अखिल', 'कम्प्यूटर', \"'सामना'\", 'टीम', 'छठा', 'जाएं', 'नाथन', 'कूटनीतिक', 'जोस', \"'बीजद-राजग\", 'निलेश', 'कानूनों', 'धार्मिक', 'सीजन', 'सबकुछ', 'प्राथमिक', 'संदेह', 'दस्तावेज', 'मोहम्मद', 'मुखर', '५८', 'जालंधर', 'मामला', 'होकर', '१७६', 'ईलाही', 'थोड़ा', 'हस्तियों', 'गुरुनानक', 'समावेश', 'मैकमिलन', 'अजहर', 'फैला', 'केबीच', 'सौरभ', 'सेवा', 'कठिन', 'जाहिर', 'पूरे', 'आए', 'रहेगी', 'कृषि', 'झड़प', 'केंद्रीय', 'कहते', 'यादगार', \"में'\", 'इमरान', 'धोखा', 'दिल्ली', 'घोषणा', 'गिरा', 'इलाज', 'राज्य', '।', 'गिलेस्पी', '-वार्न', 'डिन', 'शायद', 'पहुंचेगे', 'स्लीप', 'गौड़ा', 'फ्रंट', 'मिलने', 'संघवी', 'कराची', 'दायित्व', 'ब्रिटेन', '२१', 'एथलेटिक', 'कदम', \"।'\", 'एच', 'जयंती', 'जैकोब', 'राजग', 'धर्मपत्नी', '१००', '१', 'भविष्य', 'शून्य', 'साथ-साथ', 'कोर्निकोवा', 'प्रशिक्षण', \"'टेस्ट\", 'समुदाय', 'सम्मेलन', 'नेे', 'आमंत्रित', 'बढ़', 'शाहिद', 'अपनी', 'खुल्लम', 'छावनियों', 'डॉन', '४८', 'वाली', 'एवं', \"'यह\", 'विकेट', 'मंगलवार', 'अंतर्राष्ट्रीय', 'इंडियन', 'उत्पीड़न', 'संभाले', 'पर्दे', 'परोरे', 'लगभग', '५९', 'बीजू', 'अन्नान', 'अकरम', 'खेलूं', '१२५', 'सूबे', 'समाज', 'औसत', 'सुशील', 'बहस', 'लेकिन', 'शाह', 'कोच', 'हम', 'मार्क', 'मंत्रियों', 'प्रतिष्ठित', 'हिस्सा', 'हटाओ', 'रहीं', 'करेेंगे', 'जारी', 'भट्ट', 'देश', '४४', 'होनी', 'दी', 'अग्रणी', \"'उधर\", 'बड़ी', 'सबके', 'अच्छी', 'एकतरफा', 'इस्तेमाल', 'बढ़ाने', 'पंजाब', 'सिफारिश', 'व्यस्ततम', 'लौटें', 'विश्व', 'राजनीतिक', 'केसरी', 'चोटे', '११७', '१९', 'कारण', 'यात्री', 'दर्ज', 'अधिसूचना', 'स्पष्ट', 'बजटमें', 'सकती', 'लिए', 'स्थापित', 'बेकारी', 'अपराधों', 'जन्मदाता', 'े', 'लंच', 'ओपन', 'अनिवार्य', 'दिये', 'रपट', 'सहयता', 'अतुल', 'टॉस', 'प्रवास', 'मौतों', 'भीतर', 'मित्रता', '७५'}\n"
     ]
    }
   ],
   "source": [
    "nltk.download('stopwords')\n",
    "from nltk.corpus import indian\n",
    "stop1= set(nltk.corpus.indian.words('hindi.pos'))\n",
    "print(stop1)"
   ]
  },
  {
   "cell_type": "markdown",
   "metadata": {},
   "source": [
    "# to do label encoding on the category feature"
   ]
  },
  {
   "cell_type": "code",
   "execution_count": 8,
   "metadata": {},
   "outputs": [],
   "source": [
    "from sklearn.preprocessing import LabelEncoder"
   ]
  },
  {
   "cell_type": "code",
   "execution_count": 9,
   "metadata": {},
   "outputs": [],
   "source": [
    "le=LabelEncoder()"
   ]
  },
  {
   "cell_type": "code",
   "execution_count": 10,
   "metadata": {},
   "outputs": [],
   "source": [
    "dataset['catagory'] = le.fit_transform(dataset['catagory'])"
   ]
  },
  {
   "cell_type": "code",
   "execution_count": 11,
   "metadata": {},
   "outputs": [
    {
     "data": {
      "text/html": [
       "<div>\n",
       "<style>\n",
       "    .dataframe thead tr:only-child th {\n",
       "        text-align: right;\n",
       "    }\n",
       "\n",
       "    .dataframe thead th {\n",
       "        text-align: left;\n",
       "    }\n",
       "\n",
       "    .dataframe tbody tr th {\n",
       "        vertical-align: top;\n",
       "    }\n",
       "</style>\n",
       "<table border=\"1\" class=\"dataframe\">\n",
       "  <thead>\n",
       "    <tr style=\"text-align: right;\">\n",
       "      <th></th>\n",
       "      <th>Video_id</th>\n",
       "      <th>title</th>\n",
       "      <th>description</th>\n",
       "      <th>catagory</th>\n",
       "    </tr>\n",
       "  </thead>\n",
       "  <tbody>\n",
       "    <tr>\n",
       "      <th>0</th>\n",
       "      <td>Yo5nOeHz</td>\n",
       "      <td>Gk Tricks in Hindi |भारत के लोक नृत्य</td>\n",
       "      <td>general awareness in Hindi | gk short tricks |...</td>\n",
       "      <td>0</td>\n",
       "    </tr>\n",
       "    <tr>\n",
       "      <th>1</th>\n",
       "      <td>Usyc--VfHU</td>\n",
       "      <td>NaN</td>\n",
       "      <td>And we are back with Dances. You literally wil...</td>\n",
       "      <td>0</td>\n",
       "    </tr>\n",
       "    <tr>\n",
       "      <th>2</th>\n",
       "      <td>YtFsn-YaO-A</td>\n",
       "      <td>NaN</td>\n",
       "      <td>Support for CAF Classes 👉 - http://bit.ly/2KGX...</td>\n",
       "      <td>0</td>\n",
       "    </tr>\n",
       "    <tr>\n",
       "      <th>3</th>\n",
       "      <td>KfD5ztfTUig</td>\n",
       "      <td>NaN</td>\n",
       "      <td>Performing Arts - Classical and Folk Dances of...</td>\n",
       "      <td>0</td>\n",
       "    </tr>\n",
       "    <tr>\n",
       "      <th>4</th>\n",
       "      <td>K4yWFUKX0</td>\n",
       "      <td>NaN</td>\n",
       "      <td>Static GK: Regional Dances of India, Classical...</td>\n",
       "      <td>0</td>\n",
       "    </tr>\n",
       "  </tbody>\n",
       "</table>\n",
       "</div>"
      ],
      "text/plain": [
       "      Video_id                                  title  \\\n",
       "0     Yo5nOeHz  Gk Tricks in Hindi |भारत के लोक नृत्य   \n",
       "1   Usyc--VfHU                                    NaN   \n",
       "2  YtFsn-YaO-A                                    NaN   \n",
       "3  KfD5ztfTUig                                    NaN   \n",
       "4    K4yWFUKX0                                    NaN   \n",
       "\n",
       "                                         description  catagory  \n",
       "0  general awareness in Hindi | gk short tricks |...         0  \n",
       "1  And we are back with Dances. You literally wil...         0  \n",
       "2  Support for CAF Classes 👉 - http://bit.ly/2KGX...         0  \n",
       "3  Performing Arts - Classical and Folk Dances of...         0  \n",
       "4  Static GK: Regional Dances of India, Classical...         0  "
      ]
     },
     "execution_count": 11,
     "metadata": {},
     "output_type": "execute_result"
    }
   ],
   "source": [
    "dataset.head()"
   ]
  },
  {
   "cell_type": "markdown",
   "metadata": {},
   "source": [
    "# drop the missing values because we dont have knowledge about the information of the missing data"
   ]
  },
  {
   "cell_type": "code",
   "execution_count": 12,
   "metadata": {},
   "outputs": [],
   "source": [
    "dataset=dataset.dropna()"
   ]
  },
  {
   "cell_type": "code",
   "execution_count": 13,
   "metadata": {},
   "outputs": [
    {
     "data": {
      "text/plain": [
       "Video_id       0\n",
       "title          0\n",
       "description    0\n",
       "catagory       0\n",
       "dtype: int64"
      ]
     },
     "execution_count": 13,
     "metadata": {},
     "output_type": "execute_result"
    }
   ],
   "source": [
    "dataset.isnull().sum()"
   ]
  },
  {
   "cell_type": "markdown",
   "metadata": {},
   "source": [
    "### Lower case"
   ]
  },
  {
   "cell_type": "code",
   "execution_count": 14,
   "metadata": {},
   "outputs": [],
   "source": [
    "dataset['title'] = dataset['title'].apply(lambda x: \" \".join(x.lower() for x in str(x).split()))"
   ]
  },
  {
   "cell_type": "code",
   "execution_count": 15,
   "metadata": {},
   "outputs": [
    {
     "data": {
      "text/plain": [
       "0                gk tricks in hindi |भारत के लोक नृत्य\n",
       "6    best trick to remember dance form of indian st...\n",
       "7    art and culture of india for rrb ntpc | indian...\n",
       "8     eye dancing and india’s ancient art of kathakali\n",
       "9      folk dances of india - static general knowledge\n",
       "Name: title, dtype: object"
      ]
     },
     "execution_count": 15,
     "metadata": {},
     "output_type": "execute_result"
    }
   ],
   "source": [
    "dataset[\"title\"].head()"
   ]
  },
  {
   "cell_type": "code",
   "execution_count": 16,
   "metadata": {},
   "outputs": [
    {
     "data": {
      "text/plain": [
       "(82,)"
      ]
     },
     "execution_count": 16,
     "metadata": {},
     "output_type": "execute_result"
    }
   ],
   "source": [
    "dataset[\"title\"].shape"
   ]
  },
  {
   "cell_type": "code",
   "execution_count": 17,
   "metadata": {},
   "outputs": [
    {
     "data": {
      "text/plain": [
       "Video_id       0\n",
       "title          0\n",
       "description    0\n",
       "catagory       0\n",
       "dtype: int64"
      ]
     },
     "execution_count": 17,
     "metadata": {},
     "output_type": "execute_result"
    }
   ],
   "source": [
    "dataset.isnull().sum()"
   ]
  },
  {
   "cell_type": "code",
   "execution_count": 18,
   "metadata": {},
   "outputs": [
    {
     "data": {
      "text/plain": [
       "(82, 4)"
      ]
     },
     "execution_count": 18,
     "metadata": {},
     "output_type": "execute_result"
    }
   ],
   "source": [
    "dataset.shape"
   ]
  },
  {
   "cell_type": "markdown",
   "metadata": {},
   "source": [
    "# removing stop words"
   ]
  },
  {
   "cell_type": "code",
   "execution_count": 19,
   "metadata": {},
   "outputs": [
    {
     "data": {
      "text/plain": [
       "0    general awareness in hindi | gk short tricks |...\n",
       "6    watch this video to learn the best trick to re...\n",
       "7    general awareness for rrb ntpc 2019 | art and ...\n",
       "8    kathakali is a traditional indian dance native...\n",
       "9    download the poket news app - http://bit.ly/2j...\n",
       "Name: description, dtype: object"
      ]
     },
     "execution_count": 19,
     "metadata": {},
     "output_type": "execute_result"
    }
   ],
   "source": [
    "dataset['description']  = dataset['description'] .apply(lambda x: \" \".join(x.lower() for x in str(x).split()))\n",
    "dataset['description'].head()"
   ]
  },
  {
   "cell_type": "code",
   "execution_count": 23,
   "metadata": {},
   "outputs": [
    {
     "data": {
      "text/plain": [
       "0    general awareness hindi | gk short tricks | ge...\n",
       "6    watch video learn best trick remember dance fo...\n",
       "7    general awareness rrb ntpc 2019 | art culture ...\n",
       "8    kathakali traditional indian dance native sout...\n",
       "9    download poket news app - http://bit.ly/2j3ixv...\n",
       "Name: description, dtype: object"
      ]
     },
     "execution_count": 23,
     "metadata": {},
     "output_type": "execute_result"
    }
   ],
   "source": [
    "# Cleaning the text data\n",
    "dataset['description'] = dataset['description'].apply(lambda x: \" \".join(x for x in x.split() if x not in stop))\n",
    "dataset['description'].head()"
   ]
  },
  {
   "cell_type": "code",
   "execution_count": 25,
   "metadata": {},
   "outputs": [
    {
     "data": {
      "text/plain": [
       "0                   gk tricks hindi |भारत के लोक नृत्य\n",
       "6    best trick remember dance form indian states |...\n",
       "7    art culture india rrb ntpc | indian dance form...\n",
       "8            eye dancing india’s ancient art kathakali\n",
       "9         folk dances india - static general knowledge\n",
       "Name: title, dtype: object"
      ]
     },
     "execution_count": 25,
     "metadata": {},
     "output_type": "execute_result"
    }
   ],
   "source": [
    "dataset['title'] = dataset['title'].apply(lambda x: \" \".join(x for x in x.split() if x not in stop))\n",
    "dataset['title'].head()"
   ]
  },
  {
   "cell_type": "code",
   "execution_count": 32,
   "metadata": {},
   "outputs": [
    {
     "data": {
      "text/plain": [
       "0                      gk tricks hindi |भारत लोक नृत्य\n",
       "6    best trick remember dance form indian states |...\n",
       "7    art culture india rrb ntpc | indian dance form...\n",
       "8            eye dancing india’s ancient art kathakali\n",
       "9           folk dances india static general knowledge\n",
       "Name: title, dtype: object"
      ]
     },
     "execution_count": 32,
     "metadata": {},
     "output_type": "execute_result"
    }
   ],
   "source": [
    "dataset['title'] = dataset['title'].apply(lambda x: \" \".join(x for x in x.split() if x not in stop1))\n",
    "dataset['title'].head()"
   ]
  },
  {
   "cell_type": "markdown",
   "metadata": {},
   "source": [
    "# Modeling"
   ]
  },
  {
   "cell_type": "markdown",
   "metadata": {},
   "source": [
    "## Creating the bag of words model"
   ]
  },
  {
   "cell_type": "code",
   "execution_count": 47,
   "metadata": {},
   "outputs": [],
   "source": [
    "from sklearn.feature_extraction.text import CountVectorizer\n",
    "cv = CountVectorizer(max_features = 1500)\n",
    "X = cv.fit_transform(dataset['title'], dataset['description']).toarray()\n",
    "y = dataset.iloc[:, 3].values"
   ]
  },
  {
   "cell_type": "code",
   "execution_count": 48,
   "metadata": {},
   "outputs": [],
   "source": [
    "from sklearn.model_selection import train_test_split\n",
    "X_train, X_test, y_train, y_test = train_test_split(X, y, test_size = 0.20, random_state = 0)"
   ]
  },
  {
   "cell_type": "markdown",
   "metadata": {},
   "source": [
    "# Apply Random forest classifier for the classification"
   ]
  },
  {
   "cell_type": "code",
   "execution_count": 49,
   "metadata": {},
   "outputs": [
    {
     "data": {
      "text/plain": [
       "RandomForestClassifier(bootstrap=True, class_weight=None, criterion='entropy',\n",
       "            max_depth=None, max_features='auto', max_leaf_nodes=None,\n",
       "            min_impurity_decrease=0.0, min_impurity_split=None,\n",
       "            min_samples_leaf=1, min_samples_split=2,\n",
       "            min_weight_fraction_leaf=0.0, n_estimators=1000, n_jobs=None,\n",
       "            oob_score=False, random_state=None, verbose=0,\n",
       "            warm_start=False)"
      ]
     },
     "execution_count": 49,
     "metadata": {},
     "output_type": "execute_result"
    }
   ],
   "source": [
    "from sklearn.ensemble import RandomForestClassifier\n",
    "classifier = RandomForestClassifier(n_estimators = 1000, criterion = 'entropy')\n",
    "classifier.fit(X_train, y_train)"
   ]
  },
  {
   "cell_type": "code",
   "execution_count": 50,
   "metadata": {},
   "outputs": [],
   "source": [
    "y_pred = classifier.predict(X_test)"
   ]
  },
  {
   "cell_type": "code",
   "execution_count": 51,
   "metadata": {},
   "outputs": [
    {
     "data": {
      "text/plain": [
       "0.8823529411764706"
      ]
     },
     "execution_count": 51,
     "metadata": {},
     "output_type": "execute_result"
    }
   ],
   "source": [
    "classifier.score(X_test, y_test)"
   ]
  },
  {
   "cell_type": "code",
   "execution_count": 52,
   "metadata": {},
   "outputs": [
    {
     "name": "stdout",
     "output_type": "stream",
     "text": [
      "              precision    recall  f1-score   support\n",
      "\n",
      "           0       1.00      1.00      1.00         4\n",
      "           2       0.33      1.00      0.50         1\n",
      "           3       1.00      1.00      1.00         4\n",
      "           4       1.00      1.00      1.00         5\n",
      "           5       1.00      0.33      0.50         3\n",
      "\n",
      "   micro avg       0.88      0.88      0.88        17\n",
      "   macro avg       0.87      0.87      0.80        17\n",
      "weighted avg       0.96      0.88      0.88        17\n",
      "\n"
     ]
    }
   ],
   "source": [
    "print(classification_report(y_test, y_pred))"
   ]
  },
  {
   "cell_type": "code",
   "execution_count": 53,
   "metadata": {},
   "outputs": [],
   "source": [
    "# Making the Confusion Matrix\n",
    "from sklearn.metrics import confusion_matrix\n",
    "cm = confusion_matrix(y_test, y_pred)"
   ]
  },
  {
   "cell_type": "code",
   "execution_count": 54,
   "metadata": {},
   "outputs": [
    {
     "data": {
      "text/plain": [
       "array([[4, 0, 0, 0, 0],\n",
       "       [0, 1, 0, 0, 0],\n",
       "       [0, 0, 4, 0, 0],\n",
       "       [0, 0, 0, 5, 0],\n",
       "       [0, 2, 0, 0, 1]], dtype=int64)"
      ]
     },
     "execution_count": 54,
     "metadata": {},
     "output_type": "execute_result"
    }
   ],
   "source": [
    "cm"
   ]
  },
  {
   "cell_type": "markdown",
   "metadata": {},
   "source": [
    "# Apply SVM for classification"
   ]
  },
  {
   "cell_type": "code",
   "execution_count": 55,
   "metadata": {},
   "outputs": [
    {
     "data": {
      "text/plain": [
       "SVC(C=1.0, cache_size=200, class_weight=None, coef0=0.0,\n",
       "  decision_function_shape='ovr', degree=3, gamma='auto_deprecated',\n",
       "  kernel='linear', max_iter=-1, probability=False, random_state=0,\n",
       "  shrinking=True, tol=0.001, verbose=False)"
      ]
     },
     "execution_count": 55,
     "metadata": {},
     "output_type": "execute_result"
    }
   ],
   "source": [
    "from sklearn.svm import SVC\n",
    "classifier1 = SVC(kernel = 'linear', random_state = 0)\n",
    "classifier1.fit(X_train, y_train)"
   ]
  },
  {
   "cell_type": "code",
   "execution_count": 56,
   "metadata": {},
   "outputs": [],
   "source": [
    "y_pred1 = classifier1.predict(X_test)"
   ]
  },
  {
   "cell_type": "code",
   "execution_count": 58,
   "metadata": {},
   "outputs": [
    {
     "data": {
      "text/plain": [
       "0.8823529411764706"
      ]
     },
     "execution_count": 58,
     "metadata": {},
     "output_type": "execute_result"
    }
   ],
   "source": [
    "classifier1.score(X_test, y_test)"
   ]
  },
  {
   "cell_type": "code",
   "execution_count": 59,
   "metadata": {},
   "outputs": [],
   "source": [
    "# Making the Confusion Matrix\n",
    "cm1 = confusion_matrix(y_test, y_pred1)"
   ]
  },
  {
   "cell_type": "code",
   "execution_count": 60,
   "metadata": {},
   "outputs": [
    {
     "data": {
      "text/plain": [
       "array([[4, 0, 0, 0, 0],\n",
       "       [0, 1, 0, 0, 0],\n",
       "       [0, 0, 4, 0, 0],\n",
       "       [0, 0, 0, 5, 0],\n",
       "       [0, 2, 0, 0, 1]], dtype=int64)"
      ]
     },
     "execution_count": 60,
     "metadata": {},
     "output_type": "execute_result"
    }
   ],
   "source": [
    "cm1"
   ]
  },
  {
   "cell_type": "markdown",
   "metadata": {},
   "source": [
    "# Apply Naive Bayes"
   ]
  },
  {
   "cell_type": "code",
   "execution_count": 61,
   "metadata": {},
   "outputs": [
    {
     "data": {
      "text/plain": [
       "GaussianNB(priors=None, var_smoothing=1e-09)"
      ]
     },
     "execution_count": 61,
     "metadata": {},
     "output_type": "execute_result"
    }
   ],
   "source": [
    "from sklearn.naive_bayes import GaussianNB\n",
    "classifier2 = GaussianNB()\n",
    "classifier2.fit(X_train, y_train)"
   ]
  },
  {
   "cell_type": "code",
   "execution_count": 62,
   "metadata": {},
   "outputs": [],
   "source": [
    "y_pred2 = classifier2.predict(X_test)"
   ]
  },
  {
   "cell_type": "code",
   "execution_count": 63,
   "metadata": {},
   "outputs": [
    {
     "data": {
      "text/plain": [
       "0.9411764705882353"
      ]
     },
     "execution_count": 63,
     "metadata": {},
     "output_type": "execute_result"
    }
   ],
   "source": [
    "classifier2.score(X_test, y_test)"
   ]
  },
  {
   "cell_type": "code",
   "execution_count": 64,
   "metadata": {},
   "outputs": [],
   "source": [
    "# Making the Confusion Matrix\n",
    "cm2 = confusion_matrix(y_test, y_pred2)"
   ]
  },
  {
   "cell_type": "code",
   "execution_count": 65,
   "metadata": {},
   "outputs": [
    {
     "data": {
      "text/plain": [
       "array([[4, 0, 0, 0, 0],\n",
       "       [0, 0, 0, 0, 1],\n",
       "       [0, 0, 4, 0, 0],\n",
       "       [0, 0, 0, 5, 0],\n",
       "       [0, 0, 0, 0, 3]], dtype=int64)"
      ]
     },
     "execution_count": 65,
     "metadata": {},
     "output_type": "execute_result"
    }
   ],
   "source": [
    "cm2"
   ]
  },
  {
   "cell_type": "markdown",
   "metadata": {},
   "source": [
    "# Apply XGboost"
   ]
  },
  {
   "cell_type": "code",
   "execution_count": 67,
   "metadata": {},
   "outputs": [
    {
     "data": {
      "text/plain": [
       "XGBClassifier(base_score=0.5, booster='gbtree', colsample_bylevel=1,\n",
       "       colsample_bynode=1, colsample_bytree=1, gamma=0, learning_rate=0.1,\n",
       "       max_delta_step=0, max_depth=3, min_child_weight=1, missing=None,\n",
       "       n_estimators=100, n_jobs=1, nthread=None,\n",
       "       objective='multi:softprob', random_state=0, reg_alpha=0,\n",
       "       reg_lambda=1, scale_pos_weight=1, seed=None, silent=None,\n",
       "       subsample=1, verbosity=1)"
      ]
     },
     "execution_count": 67,
     "metadata": {},
     "output_type": "execute_result"
    }
   ],
   "source": [
    "from xgboost import XGBClassifier\n",
    "classifier3 = XGBClassifier()\n",
    "classifier3.fit(X_train, y_train)"
   ]
  },
  {
   "cell_type": "code",
   "execution_count": 68,
   "metadata": {},
   "outputs": [],
   "source": [
    "y_pred3 = classifier3.predict(X_test)"
   ]
  },
  {
   "cell_type": "code",
   "execution_count": 69,
   "metadata": {},
   "outputs": [
    {
     "data": {
      "text/plain": [
       "0.8235294117647058"
      ]
     },
     "execution_count": 69,
     "metadata": {},
     "output_type": "execute_result"
    }
   ],
   "source": [
    "classifier3.score(X_test, y_test)"
   ]
  },
  {
   "cell_type": "code",
   "execution_count": 70,
   "metadata": {},
   "outputs": [],
   "source": [
    "# Making the Confusion Matrix\n",
    "cm3 = confusion_matrix(y_test, y_pred3)"
   ]
  },
  {
   "cell_type": "code",
   "execution_count": 71,
   "metadata": {},
   "outputs": [
    {
     "data": {
      "text/plain": [
       "array([[4, 0, 0, 0, 0],\n",
       "       [0, 1, 0, 0, 0],\n",
       "       [0, 1, 3, 0, 0],\n",
       "       [0, 0, 0, 5, 0],\n",
       "       [0, 2, 0, 0, 1]], dtype=int64)"
      ]
     },
     "execution_count": 71,
     "metadata": {},
     "output_type": "execute_result"
    }
   ],
   "source": [
    "cm3"
   ]
  },
  {
   "cell_type": "markdown",
   "metadata": {},
   "source": [
    "From above all these 4 models we can find Navie bayes is the maximum accuracy for particular this dataset which is 94%."
   ]
  },
  {
   "cell_type": "code",
   "execution_count": null,
   "metadata": {},
   "outputs": [],
   "source": []
  }
 ],
 "metadata": {
  "kernelspec": {
   "display_name": "Python 3",
   "language": "python",
   "name": "python3"
  },
  "language_info": {
   "codemirror_mode": {
    "name": "ipython",
    "version": 3
   },
   "file_extension": ".py",
   "mimetype": "text/x-python",
   "name": "python",
   "nbconvert_exporter": "python",
   "pygments_lexer": "ipython3",
   "version": "3.6.5"
  }
 },
 "nbformat": 4,
 "nbformat_minor": 2
}
